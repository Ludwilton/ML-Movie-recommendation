{
 "cells": [
  {
   "cell_type": "code",
   "execution_count": 1,
   "metadata": {},
   "outputs": [],
   "source": [
    "import pandas as pd"
   ]
  },
  {
   "cell_type": "code",
   "execution_count": 2,
   "metadata": {},
   "outputs": [],
   "source": [
    "ratings= pd.read_csv('./data/ratings.csv')\n",
    "movies = pd.read_csv('./data/movies.csv')\n",
    "\n",
    "my_data = pd.read_csv(\"letterboxd_films_with_ids.csv\")"
   ]
  },
  {
   "cell_type": "code",
   "execution_count": 3,
   "metadata": {},
   "outputs": [
    {
     "name": "stdout",
     "output_type": "stream",
     "text": [
      "<class 'pandas.core.frame.DataFrame'>\n",
      "RangeIndex: 33832162 entries, 0 to 33832161\n",
      "Data columns (total 4 columns):\n",
      " #   Column     Dtype  \n",
      "---  ------     -----  \n",
      " 0   userId     int64  \n",
      " 1   movieId    int64  \n",
      " 2   rating     float64\n",
      " 3   timestamp  int64  \n",
      "dtypes: float64(1), int64(3)\n",
      "memory usage: 1.0 GB\n"
     ]
    }
   ],
   "source": [
    "ratings.info()"
   ]
  },
  {
   "cell_type": "code",
   "execution_count": 4,
   "metadata": {},
   "outputs": [
    {
     "name": "stdout",
     "output_type": "stream",
     "text": [
      "<class 'pandas.core.frame.DataFrame'>\n",
      "RangeIndex: 86537 entries, 0 to 86536\n",
      "Data columns (total 3 columns):\n",
      " #   Column   Non-Null Count  Dtype \n",
      "---  ------   --------------  ----- \n",
      " 0   movieId  86537 non-null  int64 \n",
      " 1   title    86537 non-null  object\n",
      " 2   genres   86537 non-null  object\n",
      "dtypes: int64(1), object(2)\n",
      "memory usage: 2.0+ MB\n"
     ]
    }
   ],
   "source": [
    "movies.info()"
   ]
  },
  {
   "cell_type": "code",
   "execution_count": 5,
   "metadata": {},
   "outputs": [],
   "source": [
    "movies_with_ratings = pd.merge(movies, ratings, on='movieId', how='inner')"
   ]
  },
  {
   "cell_type": "code",
   "execution_count": 6,
   "metadata": {},
   "outputs": [
    {
     "data": {
      "application/vnd.microsoft.datawrangler.viewer.v0+json": {
       "columns": [
        {
         "name": "index",
         "rawType": "int64",
         "type": "integer"
        },
        {
         "name": "movieId",
         "rawType": "int64",
         "type": "integer"
        },
        {
         "name": "title",
         "rawType": "object",
         "type": "string"
        },
        {
         "name": "genres",
         "rawType": "object",
         "type": "string"
        },
        {
         "name": "userId",
         "rawType": "int64",
         "type": "integer"
        },
        {
         "name": "rating",
         "rawType": "float64",
         "type": "float"
        },
        {
         "name": "timestamp",
         "rawType": "int64",
         "type": "integer"
        }
       ],
       "conversionMethod": "pd.DataFrame",
       "ref": "90225c16-b671-45f6-b182-d3b70f63426a",
       "rows": [
        [
         "0",
         "1",
         "Toy Story (1995)",
         "Adventure|Animation|Children|Comedy|Fantasy",
         "1",
         "4.0",
         "1225734739"
        ],
        [
         "1",
         "1",
         "Toy Story (1995)",
         "Adventure|Animation|Children|Comedy|Fantasy",
         "2",
         "5.0",
         "835815971"
        ],
        [
         "2",
         "1",
         "Toy Story (1995)",
         "Adventure|Animation|Children|Comedy|Fantasy",
         "7",
         "4.0",
         "974518024"
        ],
        [
         "3",
         "1",
         "Toy Story (1995)",
         "Adventure|Animation|Children|Comedy|Fantasy",
         "10",
         "3.0",
         "1430666394"
        ],
        [
         "4",
         "1",
         "Toy Story (1995)",
         "Adventure|Animation|Children|Comedy|Fantasy",
         "12",
         "5.0",
         "862500738"
        ],
        [
         "5",
         "1",
         "Toy Story (1995)",
         "Adventure|Animation|Children|Comedy|Fantasy",
         "14",
         "2.5",
         "1311533061"
        ],
        [
         "6",
         "1",
         "Toy Story (1995)",
         "Adventure|Animation|Children|Comedy|Fantasy",
         "21",
         "3.0",
         "1172695347"
        ],
        [
         "7",
         "1",
         "Toy Story (1995)",
         "Adventure|Animation|Children|Comedy|Fantasy",
         "24",
         "4.5",
         "1062943926"
        ],
        [
         "8",
         "1",
         "Toy Story (1995)",
         "Adventure|Animation|Children|Comedy|Fantasy",
         "32",
         "3.5",
         "1431433562"
        ],
        [
         "9",
         "1",
         "Toy Story (1995)",
         "Adventure|Animation|Children|Comedy|Fantasy",
         "35",
         "4.0",
         "1119980188"
        ],
        [
         "10",
         "1",
         "Toy Story (1995)",
         "Adventure|Animation|Children|Comedy|Fantasy",
         "42",
         "4.0",
         "1148688265"
        ],
        [
         "11",
         "1",
         "Toy Story (1995)",
         "Adventure|Animation|Children|Comedy|Fantasy",
         "44",
         "3.5",
         "1605037948"
        ],
        [
         "12",
         "1",
         "Toy Story (1995)",
         "Adventure|Animation|Children|Comedy|Fantasy",
         "51",
         "5.0",
         "862602100"
        ],
        [
         "13",
         "1",
         "Toy Story (1995)",
         "Adventure|Animation|Children|Comedy|Fantasy",
         "53",
         "3.5",
         "1134752600"
        ],
        [
         "14",
         "1",
         "Toy Story (1995)",
         "Adventure|Animation|Children|Comedy|Fantasy",
         "54",
         "4.0",
         "1081349716"
        ],
        [
         "15",
         "1",
         "Toy Story (1995)",
         "Adventure|Animation|Children|Comedy|Fantasy",
         "57",
         "3.5",
         "1622601631"
        ],
        [
         "16",
         "1",
         "Toy Story (1995)",
         "Adventure|Animation|Children|Comedy|Fantasy",
         "64",
         "5.0",
         "1111104291"
        ],
        [
         "17",
         "1",
         "Toy Story (1995)",
         "Adventure|Animation|Children|Comedy|Fantasy",
         "68",
         "3.5",
         "1063914089"
        ],
        [
         "18",
         "1",
         "Toy Story (1995)",
         "Adventure|Animation|Children|Comedy|Fantasy",
         "72",
         "4.0",
         "1268751004"
        ],
        [
         "19",
         "1",
         "Toy Story (1995)",
         "Adventure|Animation|Children|Comedy|Fantasy",
         "79",
         "4.5",
         "1079561518"
        ],
        [
         "20",
         "1",
         "Toy Story (1995)",
         "Adventure|Animation|Children|Comedy|Fantasy",
         "82",
         "5.0",
         "1004105113"
        ],
        [
         "21",
         "1",
         "Toy Story (1995)",
         "Adventure|Animation|Children|Comedy|Fantasy",
         "87",
         "0.5",
         "1442832427"
        ],
        [
         "22",
         "1",
         "Toy Story (1995)",
         "Adventure|Animation|Children|Comedy|Fantasy",
         "88",
         "5.0",
         "861106947"
        ],
        [
         "23",
         "1",
         "Toy Story (1995)",
         "Adventure|Animation|Children|Comedy|Fantasy",
         "94",
         "4.0",
         "1080232723"
        ],
        [
         "24",
         "1",
         "Toy Story (1995)",
         "Adventure|Animation|Children|Comedy|Fantasy",
         "95",
         "3.0",
         "1519925571"
        ],
        [
         "25",
         "1",
         "Toy Story (1995)",
         "Adventure|Animation|Children|Comedy|Fantasy",
         "96",
         "4.0",
         "1438612511"
        ],
        [
         "26",
         "1",
         "Toy Story (1995)",
         "Adventure|Animation|Children|Comedy|Fantasy",
         "97",
         "3.0",
         "867268542"
        ],
        [
         "27",
         "1",
         "Toy Story (1995)",
         "Adventure|Animation|Children|Comedy|Fantasy",
         "104",
         "4.0",
         "1349860035"
        ],
        [
         "28",
         "1",
         "Toy Story (1995)",
         "Adventure|Animation|Children|Comedy|Fantasy",
         "109",
         "5.0",
         "1444797736"
        ],
        [
         "29",
         "1",
         "Toy Story (1995)",
         "Adventure|Animation|Children|Comedy|Fantasy",
         "111",
         "4.0",
         "851437656"
        ],
        [
         "30",
         "1",
         "Toy Story (1995)",
         "Adventure|Animation|Children|Comedy|Fantasy",
         "112",
         "4.5",
         "1477464735"
        ],
        [
         "31",
         "1",
         "Toy Story (1995)",
         "Adventure|Animation|Children|Comedy|Fantasy",
         "123",
         "4.0",
         "1100629066"
        ],
        [
         "32",
         "1",
         "Toy Story (1995)",
         "Adventure|Animation|Children|Comedy|Fantasy",
         "130",
         "5.0",
         "1464648744"
        ],
        [
         "33",
         "1",
         "Toy Story (1995)",
         "Adventure|Animation|Children|Comedy|Fantasy",
         "135",
         "3.0",
         "859095764"
        ],
        [
         "34",
         "1",
         "Toy Story (1995)",
         "Adventure|Animation|Children|Comedy|Fantasy",
         "144",
         "3.5",
         "1389498637"
        ],
        [
         "35",
         "1",
         "Toy Story (1995)",
         "Adventure|Animation|Children|Comedy|Fantasy",
         "148",
         "3.0",
         "947972752"
        ],
        [
         "36",
         "1",
         "Toy Story (1995)",
         "Adventure|Animation|Children|Comedy|Fantasy",
         "149",
         "4.0",
         "1118372382"
        ],
        [
         "37",
         "1",
         "Toy Story (1995)",
         "Adventure|Animation|Children|Comedy|Fantasy",
         "165",
         "4.0",
         "1431082776"
        ],
        [
         "38",
         "1",
         "Toy Story (1995)",
         "Adventure|Animation|Children|Comedy|Fantasy",
         "170",
         "5.0",
         "1443823349"
        ],
        [
         "39",
         "1",
         "Toy Story (1995)",
         "Adventure|Animation|Children|Comedy|Fantasy",
         "174",
         "4.0",
         "1374968147"
        ],
        [
         "40",
         "1",
         "Toy Story (1995)",
         "Adventure|Animation|Children|Comedy|Fantasy",
         "177",
         "5.0",
         "846216803"
        ],
        [
         "41",
         "1",
         "Toy Story (1995)",
         "Adventure|Animation|Children|Comedy|Fantasy",
         "180",
         "2.0",
         "1437572434"
        ],
        [
         "42",
         "1",
         "Toy Story (1995)",
         "Adventure|Animation|Children|Comedy|Fantasy",
         "181",
         "3.5",
         "1410743897"
        ],
        [
         "43",
         "1",
         "Toy Story (1995)",
         "Adventure|Animation|Children|Comedy|Fantasy",
         "185",
         "4.0",
         "1443894776"
        ],
        [
         "44",
         "1",
         "Toy Story (1995)",
         "Adventure|Animation|Children|Comedy|Fantasy",
         "187",
         "2.0",
         "1111926265"
        ],
        [
         "45",
         "1",
         "Toy Story (1995)",
         "Adventure|Animation|Children|Comedy|Fantasy",
         "189",
         "3.0",
         "1335302051"
        ],
        [
         "46",
         "1",
         "Toy Story (1995)",
         "Adventure|Animation|Children|Comedy|Fantasy",
         "195",
         "5.0",
         "945059212"
        ],
        [
         "47",
         "1",
         "Toy Story (1995)",
         "Adventure|Animation|Children|Comedy|Fantasy",
         "196",
         "2.0",
         "851947401"
        ],
        [
         "48",
         "1",
         "Toy Story (1995)",
         "Adventure|Animation|Children|Comedy|Fantasy",
         "198",
         "3.0",
         "1287101360"
        ],
        [
         "49",
         "1",
         "Toy Story (1995)",
         "Adventure|Animation|Children|Comedy|Fantasy",
         "200",
         "3.0",
         "868373301"
        ]
       ],
       "shape": {
        "columns": 6,
        "rows": 33832162
       }
      },
      "text/html": [
       "<div>\n",
       "<style scoped>\n",
       "    .dataframe tbody tr th:only-of-type {\n",
       "        vertical-align: middle;\n",
       "    }\n",
       "\n",
       "    .dataframe tbody tr th {\n",
       "        vertical-align: top;\n",
       "    }\n",
       "\n",
       "    .dataframe thead th {\n",
       "        text-align: right;\n",
       "    }\n",
       "</style>\n",
       "<table border=\"1\" class=\"dataframe\">\n",
       "  <thead>\n",
       "    <tr style=\"text-align: right;\">\n",
       "      <th></th>\n",
       "      <th>movieId</th>\n",
       "      <th>title</th>\n",
       "      <th>genres</th>\n",
       "      <th>userId</th>\n",
       "      <th>rating</th>\n",
       "      <th>timestamp</th>\n",
       "    </tr>\n",
       "  </thead>\n",
       "  <tbody>\n",
       "    <tr>\n",
       "      <th>0</th>\n",
       "      <td>1</td>\n",
       "      <td>Toy Story (1995)</td>\n",
       "      <td>Adventure|Animation|Children|Comedy|Fantasy</td>\n",
       "      <td>1</td>\n",
       "      <td>4.0</td>\n",
       "      <td>1225734739</td>\n",
       "    </tr>\n",
       "    <tr>\n",
       "      <th>1</th>\n",
       "      <td>1</td>\n",
       "      <td>Toy Story (1995)</td>\n",
       "      <td>Adventure|Animation|Children|Comedy|Fantasy</td>\n",
       "      <td>2</td>\n",
       "      <td>5.0</td>\n",
       "      <td>835815971</td>\n",
       "    </tr>\n",
       "    <tr>\n",
       "      <th>2</th>\n",
       "      <td>1</td>\n",
       "      <td>Toy Story (1995)</td>\n",
       "      <td>Adventure|Animation|Children|Comedy|Fantasy</td>\n",
       "      <td>7</td>\n",
       "      <td>4.0</td>\n",
       "      <td>974518024</td>\n",
       "    </tr>\n",
       "    <tr>\n",
       "      <th>3</th>\n",
       "      <td>1</td>\n",
       "      <td>Toy Story (1995)</td>\n",
       "      <td>Adventure|Animation|Children|Comedy|Fantasy</td>\n",
       "      <td>10</td>\n",
       "      <td>3.0</td>\n",
       "      <td>1430666394</td>\n",
       "    </tr>\n",
       "    <tr>\n",
       "      <th>4</th>\n",
       "      <td>1</td>\n",
       "      <td>Toy Story (1995)</td>\n",
       "      <td>Adventure|Animation|Children|Comedy|Fantasy</td>\n",
       "      <td>12</td>\n",
       "      <td>5.0</td>\n",
       "      <td>862500738</td>\n",
       "    </tr>\n",
       "    <tr>\n",
       "      <th>...</th>\n",
       "      <td>...</td>\n",
       "      <td>...</td>\n",
       "      <td>...</td>\n",
       "      <td>...</td>\n",
       "      <td>...</td>\n",
       "      <td>...</td>\n",
       "    </tr>\n",
       "    <tr>\n",
       "      <th>33832157</th>\n",
       "      <td>288967</td>\n",
       "      <td>State of Siege: Temple Attack (2021)</td>\n",
       "      <td>Action|Drama</td>\n",
       "      <td>47791</td>\n",
       "      <td>3.5</td>\n",
       "      <td>1689748357</td>\n",
       "    </tr>\n",
       "    <tr>\n",
       "      <th>33832158</th>\n",
       "      <td>288971</td>\n",
       "      <td>Ouija Japan (2021)</td>\n",
       "      <td>Action|Horror</td>\n",
       "      <td>98408</td>\n",
       "      <td>0.5</td>\n",
       "      <td>1689798322</td>\n",
       "    </tr>\n",
       "    <tr>\n",
       "      <th>33832159</th>\n",
       "      <td>288975</td>\n",
       "      <td>The Men Who Made the Movies: Howard Hawks (1973)</td>\n",
       "      <td>Documentary</td>\n",
       "      <td>154483</td>\n",
       "      <td>4.0</td>\n",
       "      <td>1689812351</td>\n",
       "    </tr>\n",
       "    <tr>\n",
       "      <th>33832160</th>\n",
       "      <td>288977</td>\n",
       "      <td>Skinford: Death Sentence (2023)</td>\n",
       "      <td>Crime|Thriller</td>\n",
       "      <td>291389</td>\n",
       "      <td>3.0</td>\n",
       "      <td>1689815902</td>\n",
       "    </tr>\n",
       "    <tr>\n",
       "      <th>33832161</th>\n",
       "      <td>288983</td>\n",
       "      <td>UNZIPPED: An Autopsy of American Inequality (2...</td>\n",
       "      <td>Documentary</td>\n",
       "      <td>254114</td>\n",
       "      <td>3.0</td>\n",
       "      <td>1689834886</td>\n",
       "    </tr>\n",
       "  </tbody>\n",
       "</table>\n",
       "<p>33832162 rows × 6 columns</p>\n",
       "</div>"
      ],
      "text/plain": [
       "          movieId                                              title  \\\n",
       "0               1                                   Toy Story (1995)   \n",
       "1               1                                   Toy Story (1995)   \n",
       "2               1                                   Toy Story (1995)   \n",
       "3               1                                   Toy Story (1995)   \n",
       "4               1                                   Toy Story (1995)   \n",
       "...           ...                                                ...   \n",
       "33832157   288967               State of Siege: Temple Attack (2021)   \n",
       "33832158   288971                                 Ouija Japan (2021)   \n",
       "33832159   288975   The Men Who Made the Movies: Howard Hawks (1973)   \n",
       "33832160   288977                    Skinford: Death Sentence (2023)   \n",
       "33832161   288983  UNZIPPED: An Autopsy of American Inequality (2...   \n",
       "\n",
       "                                               genres  userId  rating  \\\n",
       "0         Adventure|Animation|Children|Comedy|Fantasy       1     4.0   \n",
       "1         Adventure|Animation|Children|Comedy|Fantasy       2     5.0   \n",
       "2         Adventure|Animation|Children|Comedy|Fantasy       7     4.0   \n",
       "3         Adventure|Animation|Children|Comedy|Fantasy      10     3.0   \n",
       "4         Adventure|Animation|Children|Comedy|Fantasy      12     5.0   \n",
       "...                                               ...     ...     ...   \n",
       "33832157                                 Action|Drama   47791     3.5   \n",
       "33832158                                Action|Horror   98408     0.5   \n",
       "33832159                                  Documentary  154483     4.0   \n",
       "33832160                               Crime|Thriller  291389     3.0   \n",
       "33832161                                  Documentary  254114     3.0   \n",
       "\n",
       "           timestamp  \n",
       "0         1225734739  \n",
       "1          835815971  \n",
       "2          974518024  \n",
       "3         1430666394  \n",
       "4          862500738  \n",
       "...              ...  \n",
       "33832157  1689748357  \n",
       "33832158  1689798322  \n",
       "33832159  1689812351  \n",
       "33832160  1689815902  \n",
       "33832161  1689834886  \n",
       "\n",
       "[33832162 rows x 6 columns]"
      ]
     },
     "execution_count": 6,
     "metadata": {},
     "output_type": "execute_result"
    }
   ],
   "source": [
    "\n",
    "movies_with_ratings"
   ]
  },
  {
   "cell_type": "code",
   "execution_count": 36,
   "metadata": {},
   "outputs": [
    {
     "name": "stdout",
     "output_type": "stream",
     "text": [
      "count    330143.000000\n",
      "mean         89.922140\n",
      "std         190.271904\n",
      "min           1.000000\n",
      "25%          12.000000\n",
      "50%          28.000000\n",
      "75%          89.000000\n",
      "max       23659.000000\n",
      "Name: rating, dtype: float64\n"
     ]
    },
    {
     "data": {
      "text/plain": [
       "count    163909.000000\n",
       "mean        141.707496\n",
       "std         145.429332\n",
       "min          28.000000\n",
       "25%          47.000000\n",
       "50%          85.000000\n",
       "75%         175.000000\n",
       "max         869.000000\n",
       "Name: rating, dtype: float64"
      ]
     },
     "execution_count": 36,
     "metadata": {},
     "output_type": "execute_result"
    }
   ],
   "source": [
    "\n",
    "average_ratings = movies_with_ratings.groupby('movieId')['rating'].mean()\n",
    "\n",
    "popular_movies = average_ratings[average_ratings >= 3.0].index\n",
    "\n",
    "filtered_movies_with_ratings = movies_with_ratings[movies_with_ratings['movieId'].isin(popular_movies)]\n",
    "\n",
    "# remove non expert users\n",
    "user_rating_counts = filtered_movies_with_ratings.groupby('userId')['rating'].count()\n",
    "print(user_rating_counts.describe())\n",
    "filtered_users = user_rating_counts[(user_rating_counts >= user_rating_counts.quantile(0.5)) & \n",
    "                                    (user_rating_counts <= user_rating_counts.quantile(0.99))].index\n",
    "\n",
    "filtered_movies_with_ratings = filtered_movies_with_ratings[filtered_movies_with_ratings['userId'].isin(filtered_users)]\n",
    "\n",
    "user_rating_counts_after_filter = filtered_movies_with_ratings.groupby('userId')['rating'].count()\n",
    "\n",
    "user_rating_counts_after_filter.describe()"
   ]
  },
  {
   "cell_type": "code",
   "execution_count": 37,
   "metadata": {},
   "outputs": [
    {
     "data": {
      "text/plain": [
       "np.float64(141.70749623266568)"
      ]
     },
     "execution_count": 37,
     "metadata": {},
     "output_type": "execute_result"
    }
   ],
   "source": [
    "user_rating_counts_after_filter.mean()"
   ]
  },
  {
   "cell_type": "code",
   "execution_count": 24,
   "metadata": {},
   "outputs": [
    {
     "data": {
      "text/plain": [
       "np.float64(34.0)"
      ]
     },
     "execution_count": 24,
     "metadata": {},
     "output_type": "execute_result"
    }
   ],
   "source": [
    "user_rating_counts_after_filter.median()"
   ]
  },
  {
   "cell_type": "code",
   "execution_count": 25,
   "metadata": {},
   "outputs": [
    {
     "data": {
      "text/plain": [
       "np.float64(12.0)"
      ]
     },
     "execution_count": 25,
     "metadata": {},
     "output_type": "execute_result"
    }
   ],
   "source": [
    "user_rating_counts_after_filter.quantile(0.1)"
   ]
  },
  {
   "cell_type": "code",
   "execution_count": null,
   "metadata": {},
   "outputs": [
    {
     "data": {
      "image/png": "[encoded data removed]",
      "text/plain": [
       "<Figure size 1000x600 with 1 Axes>"
      ]
     },
     "metadata": {},
     "output_type": "display_data"
    }
   ],
   "source": [
    "import matplotlib.pyplot as plt\n",
    "import seaborn as sns\n",
    "\n",
    "# Calculate statistics\n",
    "mean_ratings = user_rating_counts_after_filter.mean()\n",
    "std_ratings = user_rating_counts_after_filter.std()\n",
    "median_ratings = user_rating_counts_after_filter.median()\n",
    "\n",
    "# Plot the distribution\n",
    "plt.figure(figsize=(10, 6))\n",
    "sns.histplot(user_rating_counts_after_filter, bins=50, kde=True, color='blue', alpha=0.7)\n",
    "\n",
    "# Add markers for mean, std, and median\n",
    "plt.axvline(mean_ratings, color='red', linestyle='--', label=f'Mean: {mean_ratings:.2f}')\n",
    "plt.axvline(mean_ratings + std_ratings, color='green', linestyle='--', label=f'Mean + 1 Std: {mean_ratings + std_ratings:.2f}')\n",
    "plt.axvline(mean_ratings - std_ratings, color='green', linestyle='--', label=f'Mean - 1 Std: {mean_ratings - std_ratings:.2f}')\n",
    "plt.axvline(median_ratings, color='purple', linestyle='-', label=f'Median: {median_ratings:.2f}')\n",
    "\n",
    "# Add labels and legend\n",
    "plt.title('Distribution of Ratings per User', fontsize=16)\n",
    "plt.xlabel('Number of Ratings', fontsize=14)\n",
    "plt.xlim(0, 1000)\n",
    "plt.ylabel('Frequency', fontsize=14)\n",
    "plt.legend(fontsize=12)\n",
    "plt.grid(alpha=0.3)\n",
    "\n",
    "# Show the plot\n",
    "plt.show()"
   ]
  },
  {
   "cell_type": "code",
   "execution_count": null,
   "metadata": {},
   "outputs": [
    {
     "data": {
      "application/vnd.microsoft.datawrangler.viewer.v0+json": {
       "columns": [
        {
         "name": "index",
         "rawType": "int64",
         "type": "integer"
        },
        {
         "name": "name",
         "rawType": "object",
         "type": "string"
        },
        {
         "name": "genres",
         "rawType": "object",
         "type": "string"
        },
        {
         "name": "avg_user_rating",
         "rawType": "float64",
         "type": "float"
        },
        {
         "name": "movieId",
         "rawType": "float64",
         "type": "float"
        },
        {
         "name": "rating_num",
         "rawType": "float64",
         "type": "float"
        }
       ],
       "conversionMethod": "pd.DataFrame",
       "ref": "cbac007d-9cae-421c-92e9-b56029d6c3ab",
       "rows": [
        [
         "27",
         "poor-things-2023",
         "Romance, Science Fiction, Comedy",
         "4.0",
         "286783.0",
         "4.5"
        ],
        [
         "30",
         "oppenheimer-2023",
         "History, Drama",
         "4.2",
         "287699.0",
         "4.5"
        ],
        [
         "31",
         "barbie",
         "Comedy, Adventure",
         "3.8",
         "288513.0",
         "3.5"
        ],
        [
         "32",
         "spider-man-across-the-spider-verse",
         "Animation, Adventure, Science Fiction, Action",
         "4.4",
         "286897.0",
         "5.0"
        ],
        [
         "33",
         "asteroid-city",
         "Comedy, Drama",
         "3.5",
         "287633.0",
         "3.5"
        ],
        [
         "35",
         "guardians-of-the-galaxy-vol-3",
         "Action, Adventure, Science Fiction, Comedy",
         "4.0",
         "285593.0",
         "4.0"
        ],
        [
         "36",
         "john-wick-chapter-4",
         "Action, Thriller, Crime",
         "3.9",
         "283873.0",
         "2.5"
        ],
        [
         "37",
         "ant-man-and-the-wasp-quantumania",
         "Adventure, Science Fiction, Action",
         "2.2",
         "282125.0",
         "2.5"
        ],
        [
         "38",
         "watch-the-skies-2022",
         "Science Fiction, Adventure",
         "3.2",
         "282053.0",
         "3.0"
        ],
        [
         "39",
         "avatar-the-way-of-water",
         "Action, Adventure, Science Fiction",
         "3.6",
         "280218.0",
         "3.0"
        ],
        [
         "40",
         "puss-in-boots-the-last-wish",
         "Animation, Family, Fantasy, Comedy, Adventure",
         "4.1",
         "281096.0",
         "4.0"
        ],
        [
         "41",
         "the-menu-2022",
         "Comedy, Thriller, Horror",
         "3.5",
         "279812.0",
         "3.0"
        ],
        [
         "42",
         "glass-onion",
         "Comedy, Crime, Mystery",
         "3.4",
         "278702.0",
         "3.5"
        ],
        [
         "43",
         "the-banshees-of-inisherin",
         "Comedy, Drama",
         "4.1",
         "278446.0",
         "4.5"
        ],
        [
         "44",
         "pearl-2022",
         "Horror",
         "3.7",
         "278794.0",
         "3.5"
        ],
        [
         "45",
         "inside-the-mind-of-a-cat",
         "Documentary",
         "3.6",
         "277890.0",
         "3.0"
        ],
        [
         "47",
         "nope",
         "Mystery, Science Fiction, Horror, Thriller",
         "3.7",
         "275245.0",
         "3.5"
        ],
        [
         "48",
         "thor-love-and-thunder",
         "Action, Fantasy, Comedy",
         "2.4",
         "274971.0",
         "3.0"
        ],
        [
         "50",
         "aftersun",
         "Drama",
         "4.2",
         "275503.0",
         "4.0"
        ],
        [
         "51",
         "triangle-of-sadness",
         "Drama, Comedy",
         "3.7",
         "277066.0",
         "3.5"
        ],
        [
         "52",
         "top-gun-maverick",
         "Action, Drama",
         "4.0",
         "274053.0",
         "3.5"
        ],
        [
         "53",
         "doctor-strange-in-the-multiverse-of-madness",
         "Fantasy, Adventure, Action",
         "2.9",
         "272525.0",
         "3.0"
        ],
        [
         "54",
         "x-2022",
         "Thriller, Horror, Mystery",
         "3.4",
         "271865.0",
         "3.5"
        ],
        [
         "55",
         "everything-everywhere-all-at-once",
         "Science Fiction, Adventure, Comedy, Action",
         "4.3",
         "270698.0",
         "5.0"
        ],
        [
         "56",
         "the-adam-project",
         "Science Fiction, Adventure",
         "2.9",
         "270696.0",
         "3.0"
        ],
        [
         "57",
         "the-batman",
         "Crime, Mystery, Thriller",
         "4.0",
         "268642.0",
         "3.5"
        ],
        [
         "58",
         "the-tinder-swindler",
         "Documentary, Crime",
         "3.1",
         "269820.0",
         "3.0"
        ],
        [
         "59",
         "spider-man-no-way-home",
         "Action, Adventure, Science Fiction",
         "3.8",
         "263007.0",
         "3.5"
        ],
        [
         "60",
         "dont-look-up-2021",
         "Science Fiction, Comedy, Drama",
         "3.0",
         "263407.0",
         "3.5"
        ],
        [
         "61",
         "tick-tick-boom-2021",
         "Drama, Music",
         "3.8",
         "261705.0",
         "3.0"
        ],
        [
         "62",
         "eternals",
         "Action, Science Fiction, Adventure",
         "2.7",
         "260665.0",
         "2.0"
        ],
        [
         "64",
         "dune-2021",
         "Science Fiction, Adventure",
         "3.9",
         "254726.0",
         "5.0"
        ],
        [
         "65",
         "shang-chi-and-the-legend-of-the-ten-rings",
         "Adventure, Fantasy, Action",
         "3.4",
         "255335.0",
         "3.0"
        ],
        [
         "66",
         "free-guy",
         "Adventure, Science Fiction, Comedy",
         "3.0",
         "226202.0",
         "3.5"
        ],
        [
         "67",
         "the-suicide-squad",
         "Action, Adventure, Comedy",
         "3.5",
         "251086.0",
         "2.5"
        ],
        [
         "68",
         "bo-burnham-inside",
         "Comedy, Drama",
         "4.2",
         "250010.0",
         "5.0"
        ],
        [
         "69",
         "seaspiracy",
         "Crime, Documentary",
         "3.5",
         "244368.0",
         "4.0"
        ],
        [
         "71",
         "american-murder-the-family-next-door",
         "Documentary",
         "3.3",
         "225169.0",
         "2.5"
        ],
        [
         "72",
         "david-attenborough-a-life-on-our-planet",
         "Drama, Documentary",
         "4.2",
         "225758.0",
         "4.0"
        ],
        [
         "73",
         "another-round",
         "Drama, Comedy",
         "4.1",
         "225984.0",
         "4.5"
        ],
        [
         "74",
         "the-devil-all-the-time",
         "Drama, Crime, Thriller",
         "3.3",
         "222137.0",
         "3.5"
        ],
        [
         "75",
         "my-octopus-teacher",
         "Documentary",
         "3.8",
         "223876.0",
         "4.0"
        ],
        [
         "76",
         "tenet",
         "Action, Thriller, Science Fiction",
         "3.4",
         "217465.0",
         "3.5"
        ],
        [
         "77",
         "extraction-2020",
         "Thriller, Action",
         "3.1",
         "214776.0",
         "3.0"
        ],
        [
         "78",
         "a-quiet-place-part-ii",
         "Horror, Science Fiction, Thriller",
         "3.4",
         "213347.0",
         "3.5"
        ],
        [
         "79",
         "the-social-dilemma",
         "Documentary, Drama",
         "3.2",
         "223944.0",
         "2.5"
        ],
        [
         "80",
         "dont-fk-with-cats-hunting-an-internet-killer",
         "Crime, Documentary",
         "3.7",
         "210539.0",
         "3.5"
        ],
        [
         "81",
         "star-wars-the-rise-of-skywalker",
         "Adventure, Action, Science Fiction",
         "2.3",
         "208205.0",
         "2.0"
        ],
        [
         "82",
         "little-women-2019",
         "Romance, History, Drama",
         "4.2",
         "209315.0",
         "4.0"
        ],
        [
         "83",
         "1917",
         "History, Thriller, Drama, War",
         "4.1",
         "208703.0",
         "3.5"
        ]
       ],
       "shape": {
        "columns": 5,
        "rows": 428
       }
      },
      "text/html": [
       "<div>\n",
       "<style scoped>\n",
       "    .dataframe tbody tr th:only-of-type {\n",
       "        vertical-align: middle;\n",
       "    }\n",
       "\n",
       "    .dataframe tbody tr th {\n",
       "        vertical-align: top;\n",
       "    }\n",
       "\n",
       "    .dataframe thead th {\n",
       "        text-align: right;\n",
       "    }\n",
       "</style>\n",
       "<table border=\"1\" class=\"dataframe\">\n",
       "  <thead>\n",
       "    <tr style=\"text-align: right;\">\n",
       "      <th></th>\n",
       "      <th>name</th>\n",
       "      <th>genres</th>\n",
       "      <th>avg_user_rating</th>\n",
       "      <th>movieId</th>\n",
       "      <th>rating_num</th>\n",
       "    </tr>\n",
       "  </thead>\n",
       "  <tbody>\n",
       "    <tr>\n",
       "      <th>27</th>\n",
       "      <td>poor-things-2023</td>\n",
       "      <td>Romance, Science Fiction, Comedy</td>\n",
       "      <td>4.0</td>\n",
       "      <td>286783.0</td>\n",
       "      <td>4.5</td>\n",
       "    </tr>\n",
       "    <tr>\n",
       "      <th>30</th>\n",
       "      <td>oppenheimer-2023</td>\n",
       "      <td>History, Drama</td>\n",
       "      <td>4.2</td>\n",
       "      <td>287699.0</td>\n",
       "      <td>4.5</td>\n",
       "    </tr>\n",
       "    <tr>\n",
       "      <th>31</th>\n",
       "      <td>barbie</td>\n",
       "      <td>Comedy, Adventure</td>\n",
       "      <td>3.8</td>\n",
       "      <td>288513.0</td>\n",
       "      <td>3.5</td>\n",
       "    </tr>\n",
       "    <tr>\n",
       "      <th>32</th>\n",
       "      <td>spider-man-across-the-spider-verse</td>\n",
       "      <td>Animation, Adventure, Science Fiction, Action</td>\n",
       "      <td>4.4</td>\n",
       "      <td>286897.0</td>\n",
       "      <td>5.0</td>\n",
       "    </tr>\n",
       "    <tr>\n",
       "      <th>33</th>\n",
       "      <td>asteroid-city</td>\n",
       "      <td>Comedy, Drama</td>\n",
       "      <td>3.5</td>\n",
       "      <td>287633.0</td>\n",
       "      <td>3.5</td>\n",
       "    </tr>\n",
       "    <tr>\n",
       "      <th>...</th>\n",
       "      <td>...</td>\n",
       "      <td>...</td>\n",
       "      <td>...</td>\n",
       "      <td>...</td>\n",
       "      <td>...</td>\n",
       "    </tr>\n",
       "    <tr>\n",
       "      <th>464</th>\n",
       "      <td>grease</td>\n",
       "      <td>Comedy, Romance</td>\n",
       "      <td>3.5</td>\n",
       "      <td>1380.0</td>\n",
       "      <td>3.0</td>\n",
       "    </tr>\n",
       "    <tr>\n",
       "      <th>465</th>\n",
       "      <td>star-wars</td>\n",
       "      <td>Adventure, Action, Science Fiction</td>\n",
       "      <td>4.2</td>\n",
       "      <td>260.0</td>\n",
       "      <td>4.0</td>\n",
       "    </tr>\n",
       "    <tr>\n",
       "      <th>466</th>\n",
       "      <td>rocky</td>\n",
       "      <td>Drama</td>\n",
       "      <td>4.1</td>\n",
       "      <td>1954.0</td>\n",
       "      <td>3.0</td>\n",
       "    </tr>\n",
       "    <tr>\n",
       "      <th>467</th>\n",
       "      <td>the-exorcist</td>\n",
       "      <td>Horror</td>\n",
       "      <td>4.0</td>\n",
       "      <td>1997.0</td>\n",
       "      <td>4.0</td>\n",
       "    </tr>\n",
       "    <tr>\n",
       "      <th>468</th>\n",
       "      <td>2001-a-space-odyssey</td>\n",
       "      <td>Adventure, Mystery, Science Fiction</td>\n",
       "      <td>4.3</td>\n",
       "      <td>924.0</td>\n",
       "      <td>3.5</td>\n",
       "    </tr>\n",
       "  </tbody>\n",
       "</table>\n",
       "<p>428 rows × 5 columns</p>\n",
       "</div>"
      ],
      "text/plain": [
       "                                   name  \\\n",
       "27                     poor-things-2023   \n",
       "30                     oppenheimer-2023   \n",
       "31                               barbie   \n",
       "32   spider-man-across-the-spider-verse   \n",
       "33                        asteroid-city   \n",
       "..                                  ...   \n",
       "464                              grease   \n",
       "465                           star-wars   \n",
       "466                               rocky   \n",
       "467                        the-exorcist   \n",
       "468                2001-a-space-odyssey   \n",
       "\n",
       "                                            genres  avg_user_rating   movieId  \\\n",
       "27                Romance, Science Fiction, Comedy              4.0  286783.0   \n",
       "30                                  History, Drama              4.2  287699.0   \n",
       "31                               Comedy, Adventure              3.8  288513.0   \n",
       "32   Animation, Adventure, Science Fiction, Action              4.4  286897.0   \n",
       "33                                   Comedy, Drama              3.5  287633.0   \n",
       "..                                             ...              ...       ...   \n",
       "464                                Comedy, Romance              3.5    1380.0   \n",
       "465             Adventure, Action, Science Fiction              4.2     260.0   \n",
       "466                                          Drama              4.1    1954.0   \n",
       "467                                         Horror              4.0    1997.0   \n",
       "468            Adventure, Mystery, Science Fiction              4.3     924.0   \n",
       "\n",
       "     rating_num  \n",
       "27          4.5  \n",
       "30          4.5  \n",
       "31          3.5  \n",
       "32          5.0  \n",
       "33          3.5  \n",
       "..          ...  \n",
       "464         3.0  \n",
       "465         4.0  \n",
       "466         3.0  \n",
       "467         4.0  \n",
       "468         3.5  \n",
       "\n",
       "[428 rows x 5 columns]"
      ]
     },
     "execution_count": 73,
     "metadata": {},
     "output_type": "execute_result"
    }
   ],
   "source": [
    "my_data\n",
    "\n",
    "rating_map = {\n",
    "    '½': 0.5,\n",
    "    '★': 1,\n",
    "    '★½': 1.5,\n",
    "    '★★': 2,\n",
    "    '★★½': 2.5,\n",
    "    '★★★': 3,\n",
    "    '★★★½': 3.5,\n",
    "    '★★★★': 4,\n",
    "    '★★★★½': 4.5,\n",
    "    '★★★★★': 5\n",
    "}\n",
    "my_data['rating_num'] = my_data['rating'].map(rating_map)\n",
    "my_data = my_data.dropna(subset=[\"movieId\"])\n",
    "my_data = my_data.drop(columns=[\"rating\"])\n",
    "\n",
    "my_data"
   ]
  },
  {
   "cell_type": "markdown",
   "metadata": {},
   "source": [
    "# brb\n",
    "# min mick\n"
   ]
  },
  {
   "cell_type": "markdown",
   "metadata": {},
   "source": [
    "kernel matrix factorization\n",
    "5000 training iterations,\n",
    "50 latent factors,\n",
    "L2 regularization with a weight of 0.005,\n",
    "A learning rate of 0.01."
   ]
  },
  {
   "cell_type": "code",
   "execution_count": null,
   "metadata": {},
   "outputs": [],
   "source": []
  }
 ],
 "metadata": {
  "kernelspec": {
   "display_name": ".venv",
   "language": "python",
   "name": "python3"
  },
  "language_info": {
   "codemirror_mode": {
    "name": "ipython",
    "version": 3
   },
   "file_extension": ".py",
   "mimetype": "text/x-python",
   "name": "python",
   "nbconvert_exporter": "python",
   "pygments_lexer": "ipython3",
   "version": "3.12.6"
  }
 },
 "nbformat": 4,
 "nbformat_minor": 2
}
