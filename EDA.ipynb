{
 "cells": [
  {
   "cell_type": "code",
   "execution_count": 2,
   "metadata": {},
   "outputs": [
    {
     "name": "stdout",
     "output_type": "stream",
     "text": [
      "<class 'pandas.core.frame.DataFrame'>\n",
      "RangeIndex: 33832162 entries, 0 to 33832161\n",
      "Data columns (total 4 columns):\n",
      " #   Column     Dtype  \n",
      "---  ------     -----  \n",
      " 0   userId     int64  \n",
      " 1   movieId    int64  \n",
      " 2   rating     float64\n",
      " 3   timestamp  int64  \n",
      "dtypes: float64(1), int64(3)\n",
      "memory usage: 1.0 GB\n"
     ]
    }
   ],
   "source": [
    "import pandas as pd\n",
    "\n",
    "ratings = pd.read_csv(\"./data/ratings.csv\")\n",
    "\n"
   ]
  },
  {
   "cell_type": "code",
   "execution_count": 3,
   "metadata": {},
   "outputs": [
    {
     "name": "stdout",
     "output_type": "stream",
     "text": [
      "<class 'pandas.core.frame.DataFrame'>\n",
      "RangeIndex: 33832162 entries, 0 to 33832161\n",
      "Data columns (total 4 columns):\n",
      " #   Column     Dtype  \n",
      "---  ------     -----  \n",
      " 0   userId     int64  \n",
      " 1   movieId    int64  \n",
      " 2   rating     float64\n",
      " 3   timestamp  int64  \n",
      "dtypes: float64(1), int64(3)\n",
      "memory usage: 1.0 GB\n"
     ]
    }
   ],
   "source": [
    "ratings.info()"
   ]
  },
  {
   "cell_type": "code",
   "execution_count": 4,
   "metadata": {},
   "outputs": [
    {
     "name": "stdout",
     "output_type": "stream",
     "text": [
      "<class 'pandas.core.frame.DataFrame'>\n",
      "RangeIndex: 2328315 entries, 0 to 2328314\n",
      "Data columns (total 4 columns):\n",
      " #   Column     Dtype \n",
      "---  ------     ----- \n",
      " 0   userId     int64 \n",
      " 1   movieId    int64 \n",
      " 2   tag        object\n",
      " 3   timestamp  int64 \n",
      "dtypes: int64(3), object(1)\n",
      "memory usage: 71.1+ MB\n"
     ]
    }
   ],
   "source": [
    "tags = pd.read_csv(\"./data/tags.csv\")\n",
    "tags.info()"
   ]
  },
  {
   "cell_type": "code",
   "execution_count": 5,
   "metadata": {},
   "outputs": [
    {
     "data": {
      "text/plain": [
       "<Axes: ylabel='Count'>"
      ]
     },
     "execution_count": 5,
     "metadata": {},
     "output_type": "execute_result"
    },
    {
     "data": {
      "image/png": "[encoded data removed]",
      "text/plain": [
       "<Figure size 640x480 with 1 Axes>"
      ]
     },
     "metadata": {},
     "output_type": "display_data"
    }
   ],
   "source": [
    "import seaborn as sns\n",
    "sns.histplot(ratings)"
   ]
  },
  {
   "cell_type": "code",
   "execution_count": 6,
   "metadata": {},
   "outputs": [
    {
     "data": {
      "application/vnd.microsoft.datawrangler.viewer.v0+json": {
       "columns": [
        {
         "name": "index",
         "rawType": "int64",
         "type": "integer"
        },
        {
         "name": "userId",
         "rawType": "int64",
         "type": "integer"
        },
        {
         "name": "movieId",
         "rawType": "int64",
         "type": "integer"
        },
        {
         "name": "rating",
         "rawType": "float64",
         "type": "float"
        },
        {
         "name": "timestamp",
         "rawType": "int64",
         "type": "integer"
        }
       ],
       "conversionMethod": "pd.DataFrame",
       "ref": "44313f45-e953-45cb-8fcc-696ed94fa34d",
       "rows": [
        [
         "0",
         "1",
         "1",
         "4.0",
         "1225734739"
        ],
        [
         "1",
         "1",
         "110",
         "4.0",
         "1225865086"
        ],
        [
         "2",
         "1",
         "158",
         "4.0",
         "1225733503"
        ],
        [
         "3",
         "1",
         "260",
         "4.5",
         "1225735204"
        ],
        [
         "4",
         "1",
         "356",
         "5.0",
         "1225735119"
        ],
        [
         "5",
         "1",
         "381",
         "3.5",
         "1225734105"
        ],
        [
         "6",
         "1",
         "596",
         "4.0",
         "1225733524"
        ],
        [
         "7",
         "1",
         "1036",
         "5.0",
         "1225735626"
        ],
        [
         "8",
         "1",
         "1049",
         "3.0",
         "1225734079"
        ],
        [
         "9",
         "1",
         "1066",
         "4.0",
         "1225736961"
        ],
        [
         "10",
         "1",
         "1196",
         "3.5",
         "1225735441"
        ],
        [
         "11",
         "1",
         "1200",
         "3.5",
         "1225735861"
        ],
        [
         "12",
         "1",
         "1210",
         "4.5",
         "1225735210"
        ],
        [
         "13",
         "1",
         "1214",
         "4.0",
         "1225736426"
        ],
        [
         "14",
         "1",
         "1291",
         "5.0",
         "1225734809"
        ],
        [
         "15",
         "1",
         "1293",
         "2.0",
         "1225733842"
        ],
        [
         "16",
         "1",
         "1376",
         "3.0",
         "1225733539"
        ],
        [
         "17",
         "1",
         "1396",
         "3.0",
         "1225733534"
        ],
        [
         "18",
         "1",
         "1537",
         "4.0",
         "1225736687"
        ],
        [
         "19",
         "1",
         "1909",
         "3.0",
         "1225733717"
        ],
        [
         "20",
         "1",
         "1959",
         "4.0",
         "1225734190"
        ],
        [
         "21",
         "1",
         "1960",
         "4.0",
         "1225733965"
        ],
        [
         "22",
         "1",
         "2028",
         "5.0",
         "1225735007"
        ],
        [
         "23",
         "1",
         "2085",
         "3.5",
         "1225733974"
        ],
        [
         "24",
         "1",
         "2116",
         "4.0",
         "1225734179"
        ],
        [
         "25",
         "1",
         "2336",
         "3.5",
         "1225733831"
        ],
        [
         "26",
         "1",
         "2571",
         "2.5",
         "1225736197"
        ],
        [
         "27",
         "1",
         "2671",
         "4.0",
         "1225737459"
        ],
        [
         "28",
         "1",
         "2762",
         "5.0",
         "1225735017"
        ],
        [
         "29",
         "1",
         "2804",
         "3.0",
         "1225735064"
        ],
        [
         "30",
         "1",
         "2908",
         "4.0",
         "1225735872"
        ],
        [
         "31",
         "1",
         "3363",
         "3.0",
         "1225733955"
        ],
        [
         "32",
         "1",
         "3578",
         "5.0",
         "1225735309"
        ],
        [
         "33",
         "1",
         "4246",
         "4.0",
         "1225737285"
        ],
        [
         "34",
         "1",
         "4306",
         "4.0",
         "1225735196"
        ],
        [
         "35",
         "1",
         "4699",
         "3.5",
         "1225737315"
        ],
        [
         "36",
         "1",
         "4886",
         "5.0",
         "1225734829"
        ],
        [
         "37",
         "1",
         "4896",
         "4.0",
         "1225733516"
        ],
        [
         "38",
         "1",
         "4993",
         "4.0",
         "1225735139"
        ],
        [
         "39",
         "1",
         "4995",
         "5.0",
         "1225734583"
        ],
        [
         "40",
         "1",
         "5952",
         "4.5",
         "1225735159"
        ],
        [
         "41",
         "1",
         "6539",
         "4.0",
         "1225735722"
        ],
        [
         "42",
         "1",
         "7064",
         "3.5",
         "1225736442"
        ],
        [
         "43",
         "1",
         "7122",
         "4.0",
         "1225736170"
        ],
        [
         "44",
         "1",
         "7139",
         "3.0",
         "1225734788"
        ],
        [
         "45",
         "1",
         "7153",
         "5.0",
         "1225735149"
        ],
        [
         "46",
         "1",
         "7162",
         "4.0",
         "1225737335"
        ],
        [
         "47",
         "1",
         "7366",
         "3.5",
         "1225737488"
        ],
        [
         "48",
         "1",
         "7706",
         "3.5",
         "1225735053"
        ],
        [
         "49",
         "1",
         "8132",
         "5.0",
         "1225865124"
        ]
       ],
       "shape": {
        "columns": 4,
        "rows": 33832162
       }
      },
      "text/html": [
       "<div>\n",
       "<style scoped>\n",
       "    .dataframe tbody tr th:only-of-type {\n",
       "        vertical-align: middle;\n",
       "    }\n",
       "\n",
       "    .dataframe tbody tr th {\n",
       "        vertical-align: top;\n",
       "    }\n",
       "\n",
       "    .dataframe thead th {\n",
       "        text-align: right;\n",
       "    }\n",
       "</style>\n",
       "<table border=\"1\" class=\"dataframe\">\n",
       "  <thead>\n",
       "    <tr style=\"text-align: right;\">\n",
       "      <th></th>\n",
       "      <th>userId</th>\n",
       "      <th>movieId</th>\n",
       "      <th>rating</th>\n",
       "      <th>timestamp</th>\n",
       "    </tr>\n",
       "  </thead>\n",
       "  <tbody>\n",
       "    <tr>\n",
       "      <th>0</th>\n",
       "      <td>1</td>\n",
       "      <td>1</td>\n",
       "      <td>4.0</td>\n",
       "      <td>1225734739</td>\n",
       "    </tr>\n",
       "    <tr>\n",
       "      <th>1</th>\n",
       "      <td>1</td>\n",
       "      <td>110</td>\n",
       "      <td>4.0</td>\n",
       "      <td>1225865086</td>\n",
       "    </tr>\n",
       "    <tr>\n",
       "      <th>2</th>\n",
       "      <td>1</td>\n",
       "      <td>158</td>\n",
       "      <td>4.0</td>\n",
       "      <td>1225733503</td>\n",
       "    </tr>\n",
       "    <tr>\n",
       "      <th>3</th>\n",
       "      <td>1</td>\n",
       "      <td>260</td>\n",
       "      <td>4.5</td>\n",
       "      <td>1225735204</td>\n",
       "    </tr>\n",
       "    <tr>\n",
       "      <th>4</th>\n",
       "      <td>1</td>\n",
       "      <td>356</td>\n",
       "      <td>5.0</td>\n",
       "      <td>1225735119</td>\n",
       "    </tr>\n",
       "    <tr>\n",
       "      <th>...</th>\n",
       "      <td>...</td>\n",
       "      <td>...</td>\n",
       "      <td>...</td>\n",
       "      <td>...</td>\n",
       "    </tr>\n",
       "    <tr>\n",
       "      <th>33832157</th>\n",
       "      <td>330975</td>\n",
       "      <td>8340</td>\n",
       "      <td>2.0</td>\n",
       "      <td>1091583256</td>\n",
       "    </tr>\n",
       "    <tr>\n",
       "      <th>33832158</th>\n",
       "      <td>330975</td>\n",
       "      <td>8493</td>\n",
       "      <td>2.5</td>\n",
       "      <td>1091585709</td>\n",
       "    </tr>\n",
       "    <tr>\n",
       "      <th>33832159</th>\n",
       "      <td>330975</td>\n",
       "      <td>8622</td>\n",
       "      <td>4.0</td>\n",
       "      <td>1091581777</td>\n",
       "    </tr>\n",
       "    <tr>\n",
       "      <th>33832160</th>\n",
       "      <td>330975</td>\n",
       "      <td>8665</td>\n",
       "      <td>3.0</td>\n",
       "      <td>1091581765</td>\n",
       "    </tr>\n",
       "    <tr>\n",
       "      <th>33832161</th>\n",
       "      <td>330975</td>\n",
       "      <td>8783</td>\n",
       "      <td>2.5</td>\n",
       "      <td>1091581799</td>\n",
       "    </tr>\n",
       "  </tbody>\n",
       "</table>\n",
       "<p>33832162 rows × 4 columns</p>\n",
       "</div>"
      ],
      "text/plain": [
       "          userId  movieId  rating   timestamp\n",
       "0              1        1     4.0  1225734739\n",
       "1              1      110     4.0  1225865086\n",
       "2              1      158     4.0  1225733503\n",
       "3              1      260     4.5  1225735204\n",
       "4              1      356     5.0  1225735119\n",
       "...          ...      ...     ...         ...\n",
       "33832157  330975     8340     2.0  1091583256\n",
       "33832158  330975     8493     2.5  1091585709\n",
       "33832159  330975     8622     4.0  1091581777\n",
       "33832160  330975     8665     3.0  1091581765\n",
       "33832161  330975     8783     2.5  1091581799\n",
       "\n",
       "[33832162 rows x 4 columns]"
      ]
     },
     "execution_count": 6,
     "metadata": {},
     "output_type": "execute_result"
    }
   ],
   "source": [
    "ratings"
   ]
  }
 ],
 "metadata": {
  "kernelspec": {
   "display_name": ".venv",
   "language": "python",
   "name": "python3"
  },
  "language_info": {
   "codemirror_mode": {
    "name": "ipython",
    "version": 3
   },
   "file_extension": ".py",
   "mimetype": "text/x-python",
   "name": "python",
   "nbconvert_exporter": "python",
   "pygments_lexer": "ipython3",
   "version": "3.12.6"
  }
 },
 "nbformat": 4,
 "nbformat_minor": 2
}
