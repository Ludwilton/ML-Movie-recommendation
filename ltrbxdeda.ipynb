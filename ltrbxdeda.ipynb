{
 "cells": [
  {
   "cell_type": "code",
   "execution_count": 20,
   "metadata": {},
   "outputs": [
    {
     "data": {
      "application/vnd.microsoft.datawrangler.viewer.v0+json": {
       "columns": [
        {
         "name": "index",
         "rawType": "int64",
         "type": "integer"
        },
        {
         "name": "name",
         "rawType": "object",
         "type": "string"
        },
        {
         "name": "rating",
         "rawType": "object",
         "type": "string"
        },
        {
         "name": "genres",
         "rawType": "object",
         "type": "string"
        },
        {
         "name": "avg_user_rating",
         "rawType": "float64",
         "type": "float"
        }
       ],
       "conversionMethod": "pd.DataFrame",
       "ref": "0c3f5150-9e4b-4842-8843-80dd53e2ae19",
       "rows": [
        [
         "0",
         "mickey-17",
         "★★★★",
         "Comedy, Adventure, Science Fiction",
         "3.7"
        ],
        [
         "1",
         "companion-2025",
         "★★★★",
         "Thriller, Horror, Science Fiction, Comedy",
         "3.5"
        ],
        [
         "2",
         "nosferatu-2024",
         "★★★½",
         "Fantasy, Horror",
         "3.7"
        ],
        [
         "3",
         "gladiator-ii",
         "★★★★",
         "Drama, Action, Adventure",
         "3.3"
        ],
        [
         "4",
         "the-wild-robot",
         "★★★★½",
         "Family, Science Fiction, Animation",
         "4.2"
        ],
        [
         "5",
         "we-live-in-time",
         "★★★½",
         "Drama, Romance",
         "3.7"
        ],
        [
         "6",
         "conclave",
         "★★★½",
         "Drama, Thriller, Mystery",
         "3.9"
        ],
        [
         "7",
         "better-man-2024",
         "★½",
         "Music, Drama",
         "3.8"
        ],
        [
         "8",
         "alien-romulus",
         "★★★★",
         "Science Fiction, Horror",
         "3.6"
        ],
        [
         "9",
         "deadpool-wolverine",
         "★★★",
         "Science Fiction, Action, Comedy",
         "3.5"
        ],
        [
         "10",
         "a-quiet-place-day-one",
         "★★★",
         "Thriller, Science Fiction, Horror",
         "3.2"
        ],
        [
         "11",
         "maxxxine",
         "★★★★",
         "Crime, Horror, Mystery",
         "3.1"
        ],
        [
         "12",
         "inside-out-2-2024",
         "★★★★",
         "Comedy, Family, Animation, Adventure",
         "3.6"
        ],
        [
         "13",
         "summer-times-2024",
         "★★½",
         "Music, Drama",
         "3.4"
        ],
        [
         "14",
         "flow-2024",
         "★★★½",
         "Adventure, Fantasy, Animation",
         "4.1"
        ],
        [
         "15",
         "anora",
         "★★★½",
         "Drama, Romance, Comedy",
         "3.9"
        ],
        [
         "16",
         "the-substance",
         "★★★★",
         "Horror, Comedy, Drama, Science Fiction",
         "3.8"
        ],
        [
         "17",
         "the-balconettes",
         "★★½",
         "Comedy, Horror, Fantasy",
         "3.3"
        ],
        [
         "18",
         "the-last-journey-2024",
         "★★★★½",
         "Documentary",
         "3.8"
        ],
        [
         "19",
         "dune-part-two",
         "★★★★★",
         "Adventure, Science Fiction",
         "4.4"
        ],
        [
         "20",
         "a-real-pain",
         "★★½",
         "Comedy, Drama",
         "3.7"
        ],
        [
         "21",
         "a-heart-is-always-red",
         "★★★½",
         "Music, Documentary",
         "3.6"
        ],
        [
         "22",
         "the-remarkable-life-of-ibelin",
         "★★★★",
         "Documentary, Animation",
         "4.1"
        ],
        [
         "23",
         "godzilla-minus-one",
         "★★★★",
         "Horror, Science Fiction, Action",
         "4.1"
        ],
        [
         "24",
         "saw-x",
         "★★½",
         "Thriller, Horror, Mystery",
         "3.2"
        ],
        [
         "25",
         "the-creator-2023",
         "★★★½",
         "Action, Science Fiction, Adventure",
         "3.3"
        ],
        [
         "26",
         "dream-scenario",
         "★★½",
         "Comedy, Fantasy",
         "3.4"
        ],
        [
         "27",
         "poor-things-2023",
         "★★★★½",
         "Romance, Science Fiction, Comedy",
         "4.0"
        ],
        [
         "28",
         "the-holdovers",
         "★★★★",
         "Comedy, Drama",
         "4.2"
        ],
        [
         "29",
         "teenage-mutant-ninja-turtles-mutant-mayhem",
         "★★★",
         "Action, Comedy, Animation, Science Fiction",
         "3.8"
        ],
        [
         "30",
         "oppenheimer-2023",
         "★★★★½",
         "History, Drama",
         "4.2"
        ],
        [
         "31",
         "barbie",
         "★★★½",
         "Comedy, Adventure",
         "3.8"
        ],
        [
         "32",
         "spider-man-across-the-spider-verse",
         "★★★★★",
         "Animation, Adventure, Science Fiction, Action",
         "4.4"
        ],
        [
         "33",
         "asteroid-city",
         "★★★½",
         "Comedy, Drama",
         "3.5"
        ],
        [
         "34",
         "club-zero",
         "★★★",
         "Comedy, Thriller, Drama",
         "2.9"
        ],
        [
         "35",
         "guardians-of-the-galaxy-vol-3",
         "★★★★",
         "Action, Adventure, Science Fiction, Comedy",
         "4.0"
        ],
        [
         "36",
         "john-wick-chapter-4",
         "★★½",
         "Action, Thriller, Crime",
         "3.9"
        ],
        [
         "37",
         "ant-man-and-the-wasp-quantumania",
         "★★½",
         "Adventure, Science Fiction, Action",
         "2.2"
        ],
        [
         "38",
         "watch-the-skies-2022",
         "★★★",
         "Science Fiction, Adventure",
         "3.2"
        ],
        [
         "39",
         "avatar-the-way-of-water",
         "★★★",
         "Action, Adventure, Science Fiction",
         "3.6"
        ],
        [
         "40",
         "puss-in-boots-the-last-wish",
         "★★★★",
         "Animation, Family, Fantasy, Comedy, Adventure",
         "4.1"
        ],
        [
         "41",
         "the-menu-2022",
         "★★★",
         "Comedy, Thriller, Horror",
         "3.5"
        ],
        [
         "42",
         "glass-onion",
         "★★★½",
         "Comedy, Crime, Mystery",
         "3.4"
        ],
        [
         "43",
         "the-banshees-of-inisherin",
         "★★★★½",
         "Comedy, Drama",
         "4.1"
        ],
        [
         "44",
         "pearl-2022",
         "★★★½",
         "Horror",
         "3.7"
        ],
        [
         "45",
         "inside-the-mind-of-a-cat",
         "★★★",
         "Documentary",
         "3.6"
        ],
        [
         "46",
         "trainwreck-woodstock-99",
         "★★★",
         "Documentary, Music",
         "3.5"
        ],
        [
         "47",
         "nope",
         "★★★½",
         "Mystery, Science Fiction, Horror, Thriller",
         "3.7"
        ],
        [
         "48",
         "thor-love-and-thunder",
         "★★★",
         "Action, Fantasy, Comedy",
         "2.4"
        ],
        [
         "49",
         "obi-wan-kenobi-the-patterson-cut",
         "★★½",
         "Drama",
         "3.1"
        ]
       ],
       "shape": {
        "columns": 4,
        "rows": 469
       }
      },
      "text/html": [
       "<div>\n",
       "<style scoped>\n",
       "    .dataframe tbody tr th:only-of-type {\n",
       "        vertical-align: middle;\n",
       "    }\n",
       "\n",
       "    .dataframe tbody tr th {\n",
       "        vertical-align: top;\n",
       "    }\n",
       "\n",
       "    .dataframe thead th {\n",
       "        text-align: right;\n",
       "    }\n",
       "</style>\n",
       "<table border=\"1\" class=\"dataframe\">\n",
       "  <thead>\n",
       "    <tr style=\"text-align: right;\">\n",
       "      <th></th>\n",
       "      <th>name</th>\n",
       "      <th>rating</th>\n",
       "      <th>genres</th>\n",
       "      <th>avg_user_rating</th>\n",
       "    </tr>\n",
       "  </thead>\n",
       "  <tbody>\n",
       "    <tr>\n",
       "      <th>0</th>\n",
       "      <td>mickey-17</td>\n",
       "      <td>★★★★</td>\n",
       "      <td>Comedy, Adventure, Science Fiction</td>\n",
       "      <td>3.7</td>\n",
       "    </tr>\n",
       "    <tr>\n",
       "      <th>1</th>\n",
       "      <td>companion-2025</td>\n",
       "      <td>★★★★</td>\n",
       "      <td>Thriller, Horror, Science Fiction, Comedy</td>\n",
       "      <td>3.5</td>\n",
       "    </tr>\n",
       "    <tr>\n",
       "      <th>2</th>\n",
       "      <td>nosferatu-2024</td>\n",
       "      <td>★★★½</td>\n",
       "      <td>Fantasy, Horror</td>\n",
       "      <td>3.7</td>\n",
       "    </tr>\n",
       "    <tr>\n",
       "      <th>3</th>\n",
       "      <td>gladiator-ii</td>\n",
       "      <td>★★★★</td>\n",
       "      <td>Drama, Action, Adventure</td>\n",
       "      <td>3.3</td>\n",
       "    </tr>\n",
       "    <tr>\n",
       "      <th>4</th>\n",
       "      <td>the-wild-robot</td>\n",
       "      <td>★★★★½</td>\n",
       "      <td>Family, Science Fiction, Animation</td>\n",
       "      <td>4.2</td>\n",
       "    </tr>\n",
       "    <tr>\n",
       "      <th>...</th>\n",
       "      <td>...</td>\n",
       "      <td>...</td>\n",
       "      <td>...</td>\n",
       "      <td>...</td>\n",
       "    </tr>\n",
       "    <tr>\n",
       "      <th>464</th>\n",
       "      <td>grease</td>\n",
       "      <td>★★★</td>\n",
       "      <td>Comedy, Romance</td>\n",
       "      <td>3.5</td>\n",
       "    </tr>\n",
       "    <tr>\n",
       "      <th>465</th>\n",
       "      <td>star-wars</td>\n",
       "      <td>★★★★</td>\n",
       "      <td>Adventure, Action, Science Fiction</td>\n",
       "      <td>4.2</td>\n",
       "    </tr>\n",
       "    <tr>\n",
       "      <th>466</th>\n",
       "      <td>rocky</td>\n",
       "      <td>★★★</td>\n",
       "      <td>Drama</td>\n",
       "      <td>4.1</td>\n",
       "    </tr>\n",
       "    <tr>\n",
       "      <th>467</th>\n",
       "      <td>the-exorcist</td>\n",
       "      <td>★★★★</td>\n",
       "      <td>Horror</td>\n",
       "      <td>4.0</td>\n",
       "    </tr>\n",
       "    <tr>\n",
       "      <th>468</th>\n",
       "      <td>2001-a-space-odyssey</td>\n",
       "      <td>★★★½</td>\n",
       "      <td>Adventure, Mystery, Science Fiction</td>\n",
       "      <td>4.3</td>\n",
       "    </tr>\n",
       "  </tbody>\n",
       "</table>\n",
       "<p>469 rows × 4 columns</p>\n",
       "</div>"
      ],
      "text/plain": [
       "                     name rating                                     genres  \\\n",
       "0               mickey-17   ★★★★         Comedy, Adventure, Science Fiction   \n",
       "1          companion-2025   ★★★★  Thriller, Horror, Science Fiction, Comedy   \n",
       "2          nosferatu-2024   ★★★½                            Fantasy, Horror   \n",
       "3            gladiator-ii   ★★★★                   Drama, Action, Adventure   \n",
       "4          the-wild-robot  ★★★★½         Family, Science Fiction, Animation   \n",
       "..                    ...    ...                                        ...   \n",
       "464                grease    ★★★                            Comedy, Romance   \n",
       "465             star-wars   ★★★★         Adventure, Action, Science Fiction   \n",
       "466                 rocky    ★★★                                      Drama   \n",
       "467          the-exorcist   ★★★★                                     Horror   \n",
       "468  2001-a-space-odyssey   ★★★½        Adventure, Mystery, Science Fiction   \n",
       "\n",
       "     avg_user_rating  \n",
       "0                3.7  \n",
       "1                3.5  \n",
       "2                3.7  \n",
       "3                3.3  \n",
       "4                4.2  \n",
       "..               ...  \n",
       "464              3.5  \n",
       "465              4.2  \n",
       "466              4.1  \n",
       "467              4.0  \n",
       "468              4.3  \n",
       "\n",
       "[469 rows x 4 columns]"
      ]
     },
     "execution_count": 20,
     "metadata": {},
     "output_type": "execute_result"
    }
   ],
   "source": [
    "import pandas as pd\n",
    "\n",
    "df = pd.read_csv(\"./letterboxd_films.csv\")\n",
    "\n",
    "df"
   ]
  },
  {
   "cell_type": "code",
   "execution_count": null,
   "metadata": {},
   "outputs": [
    {
     "name": "stdout",
     "output_type": "stream",
     "text": [
      "Looking up IMDb IDs from Letterboxd...\n"
     ]
    },
    {
     "name": "stderr",
     "output_type": "stream",
     "text": [
      " 11%|█▏        | 53/469 [00:48<06:19,  1.10it/s]\n"
     ]
    },
    {
     "ename": "KeyboardInterrupt",
     "evalue": "",
     "output_type": "error",
     "traceback": [
      "\u001b[31m---------------------------------------------------------------------------\u001b[39m",
      "\u001b[31mKeyboardInterrupt\u001b[39m                         Traceback (most recent call last)",
      "\u001b[36mCell\u001b[39m\u001b[36m \u001b[39m\u001b[32mIn[21]\u001b[39m\u001b[32m, line 39\u001b[39m\n\u001b[32m     36\u001b[39m letterboxd_uri = \u001b[33mf\u001b[39m\u001b[33m\"\u001b[39m\u001b[33mhttps://letterboxd.com/film/\u001b[39m\u001b[38;5;132;01m{\u001b[39;00mname\u001b[38;5;132;01m}\u001b[39;00m\u001b[33m/\u001b[39m\u001b[33m\"\u001b[39m\n\u001b[32m     38\u001b[39m \u001b[38;5;66;03m# Get IMDb ID with a small delay to be nice to their servers\u001b[39;00m\n\u001b[32m---> \u001b[39m\u001b[32m39\u001b[39m imdb_id = \u001b[43mget_imdb_id\u001b[49m\u001b[43m(\u001b[49m\u001b[43mletterboxd_uri\u001b[49m\u001b[43m)\u001b[49m\n\u001b[32m     40\u001b[39m imdb_ids.append(imdb_id)\n\u001b[32m     41\u001b[39m time.sleep(\u001b[32m0.5\u001b[39m)  \u001b[38;5;66;03m# Add a delay to avoid hitting rate limits\u001b[39;00m\n",
      "\u001b[36mCell\u001b[39m\u001b[36m \u001b[39m\u001b[32mIn[21]\u001b[39m\u001b[32m, line 10\u001b[39m, in \u001b[36mget_imdb_id\u001b[39m\u001b[34m(letterboxd_uri)\u001b[39m\n\u001b[32m      8\u001b[39m \u001b[38;5;28;01mdef\u001b[39;00m\u001b[38;5;250m \u001b[39m\u001b[34mget_imdb_id\u001b[39m(letterboxd_uri):\n\u001b[32m      9\u001b[39m     \u001b[38;5;28;01mtry\u001b[39;00m:\n\u001b[32m---> \u001b[39m\u001b[32m10\u001b[39m         resp = \u001b[43mrequests\u001b[49m\u001b[43m.\u001b[49m\u001b[43mget\u001b[49m\u001b[43m(\u001b[49m\u001b[43mletterboxd_uri\u001b[49m\u001b[43m)\u001b[49m\n\u001b[32m     11\u001b[39m         \u001b[38;5;28;01mif\u001b[39;00m resp.status_code != \u001b[32m200\u001b[39m:\n\u001b[32m     12\u001b[39m             \u001b[38;5;28;01mreturn\u001b[39;00m \u001b[38;5;28;01mNone\u001b[39;00m\n",
      "\u001b[36mFile \u001b[39m\u001b[32m~/Desktop/SKOLARBETE-ITHS/repos/ML-Movie-recommendation/.venv/lib/python3.12/site-packages/requests/api.py:73\u001b[39m, in \u001b[36mget\u001b[39m\u001b[34m(url, params, **kwargs)\u001b[39m\n\u001b[32m     62\u001b[39m \u001b[38;5;28;01mdef\u001b[39;00m\u001b[38;5;250m \u001b[39m\u001b[34mget\u001b[39m(url, params=\u001b[38;5;28;01mNone\u001b[39;00m, **kwargs):\n\u001b[32m     63\u001b[39m \u001b[38;5;250m    \u001b[39m\u001b[33mr\u001b[39m\u001b[33;03m\"\"\"Sends a GET request.\u001b[39;00m\n\u001b[32m     64\u001b[39m \n\u001b[32m     65\u001b[39m \u001b[33;03m    :param url: URL for the new :class:`Request` object.\u001b[39;00m\n\u001b[32m   (...)\u001b[39m\u001b[32m     70\u001b[39m \u001b[33;03m    :rtype: requests.Response\u001b[39;00m\n\u001b[32m     71\u001b[39m \u001b[33;03m    \"\"\"\u001b[39;00m\n\u001b[32m---> \u001b[39m\u001b[32m73\u001b[39m     \u001b[38;5;28;01mreturn\u001b[39;00m \u001b[43mrequest\u001b[49m\u001b[43m(\u001b[49m\u001b[33;43m\"\u001b[39;49m\u001b[33;43mget\u001b[39;49m\u001b[33;43m\"\u001b[39;49m\u001b[43m,\u001b[49m\u001b[43m \u001b[49m\u001b[43murl\u001b[49m\u001b[43m,\u001b[49m\u001b[43m \u001b[49m\u001b[43mparams\u001b[49m\u001b[43m=\u001b[49m\u001b[43mparams\u001b[49m\u001b[43m,\u001b[49m\u001b[43m \u001b[49m\u001b[43m*\u001b[49m\u001b[43m*\u001b[49m\u001b[43mkwargs\u001b[49m\u001b[43m)\u001b[49m\n",
      "\u001b[36mFile \u001b[39m\u001b[32m~/Desktop/SKOLARBETE-ITHS/repos/ML-Movie-recommendation/.venv/lib/python3.12/site-packages/requests/api.py:59\u001b[39m, in \u001b[36mrequest\u001b[39m\u001b[34m(method, url, **kwargs)\u001b[39m\n\u001b[32m     55\u001b[39m \u001b[38;5;66;03m# By using the 'with' statement we are sure the session is closed, thus we\u001b[39;00m\n\u001b[32m     56\u001b[39m \u001b[38;5;66;03m# avoid leaving sockets open which can trigger a ResourceWarning in some\u001b[39;00m\n\u001b[32m     57\u001b[39m \u001b[38;5;66;03m# cases, and look like a memory leak in others.\u001b[39;00m\n\u001b[32m     58\u001b[39m \u001b[38;5;28;01mwith\u001b[39;00m sessions.Session() \u001b[38;5;28;01mas\u001b[39;00m session:\n\u001b[32m---> \u001b[39m\u001b[32m59\u001b[39m     \u001b[38;5;28;01mreturn\u001b[39;00m \u001b[43msession\u001b[49m\u001b[43m.\u001b[49m\u001b[43mrequest\u001b[49m\u001b[43m(\u001b[49m\u001b[43mmethod\u001b[49m\u001b[43m=\u001b[49m\u001b[43mmethod\u001b[49m\u001b[43m,\u001b[49m\u001b[43m \u001b[49m\u001b[43murl\u001b[49m\u001b[43m=\u001b[49m\u001b[43murl\u001b[49m\u001b[43m,\u001b[49m\u001b[43m \u001b[49m\u001b[43m*\u001b[49m\u001b[43m*\u001b[49m\u001b[43mkwargs\u001b[49m\u001b[43m)\u001b[49m\n",
      "\u001b[36mFile \u001b[39m\u001b[32m~/Desktop/SKOLARBETE-ITHS/repos/ML-Movie-recommendation/.venv/lib/python3.12/site-packages/requests/sessions.py:589\u001b[39m, in \u001b[36mSession.request\u001b[39m\u001b[34m(self, method, url, params, data, headers, cookies, files, auth, timeout, allow_redirects, proxies, hooks, stream, verify, cert, json)\u001b[39m\n\u001b[32m    584\u001b[39m send_kwargs = {\n\u001b[32m    585\u001b[39m     \u001b[33m\"\u001b[39m\u001b[33mtimeout\u001b[39m\u001b[33m\"\u001b[39m: timeout,\n\u001b[32m    586\u001b[39m     \u001b[33m\"\u001b[39m\u001b[33mallow_redirects\u001b[39m\u001b[33m\"\u001b[39m: allow_redirects,\n\u001b[32m    587\u001b[39m }\n\u001b[32m    588\u001b[39m send_kwargs.update(settings)\n\u001b[32m--> \u001b[39m\u001b[32m589\u001b[39m resp = \u001b[38;5;28;43mself\u001b[39;49m\u001b[43m.\u001b[49m\u001b[43msend\u001b[49m\u001b[43m(\u001b[49m\u001b[43mprep\u001b[49m\u001b[43m,\u001b[49m\u001b[43m \u001b[49m\u001b[43m*\u001b[49m\u001b[43m*\u001b[49m\u001b[43msend_kwargs\u001b[49m\u001b[43m)\u001b[49m\n\u001b[32m    591\u001b[39m \u001b[38;5;28;01mreturn\u001b[39;00m resp\n",
      "\u001b[36mFile \u001b[39m\u001b[32m~/Desktop/SKOLARBETE-ITHS/repos/ML-Movie-recommendation/.venv/lib/python3.12/site-packages/requests/sessions.py:703\u001b[39m, in \u001b[36mSession.send\u001b[39m\u001b[34m(self, request, **kwargs)\u001b[39m\n\u001b[32m    700\u001b[39m start = preferred_clock()\n\u001b[32m    702\u001b[39m \u001b[38;5;66;03m# Send the request\u001b[39;00m\n\u001b[32m--> \u001b[39m\u001b[32m703\u001b[39m r = \u001b[43madapter\u001b[49m\u001b[43m.\u001b[49m\u001b[43msend\u001b[49m\u001b[43m(\u001b[49m\u001b[43mrequest\u001b[49m\u001b[43m,\u001b[49m\u001b[43m \u001b[49m\u001b[43m*\u001b[49m\u001b[43m*\u001b[49m\u001b[43mkwargs\u001b[49m\u001b[43m)\u001b[49m\n\u001b[32m    705\u001b[39m \u001b[38;5;66;03m# Total elapsed time of the request (approximately)\u001b[39;00m\n\u001b[32m    706\u001b[39m elapsed = preferred_clock() - start\n",
      "\u001b[36mFile \u001b[39m\u001b[32m~/Desktop/SKOLARBETE-ITHS/repos/ML-Movie-recommendation/.venv/lib/python3.12/site-packages/requests/adapters.py:667\u001b[39m, in \u001b[36mHTTPAdapter.send\u001b[39m\u001b[34m(self, request, stream, timeout, verify, cert, proxies)\u001b[39m\n\u001b[32m    664\u001b[39m     timeout = TimeoutSauce(connect=timeout, read=timeout)\n\u001b[32m    666\u001b[39m \u001b[38;5;28;01mtry\u001b[39;00m:\n\u001b[32m--> \u001b[39m\u001b[32m667\u001b[39m     resp = \u001b[43mconn\u001b[49m\u001b[43m.\u001b[49m\u001b[43murlopen\u001b[49m\u001b[43m(\u001b[49m\n\u001b[32m    668\u001b[39m \u001b[43m        \u001b[49m\u001b[43mmethod\u001b[49m\u001b[43m=\u001b[49m\u001b[43mrequest\u001b[49m\u001b[43m.\u001b[49m\u001b[43mmethod\u001b[49m\u001b[43m,\u001b[49m\n\u001b[32m    669\u001b[39m \u001b[43m        \u001b[49m\u001b[43murl\u001b[49m\u001b[43m=\u001b[49m\u001b[43murl\u001b[49m\u001b[43m,\u001b[49m\n\u001b[32m    670\u001b[39m \u001b[43m        \u001b[49m\u001b[43mbody\u001b[49m\u001b[43m=\u001b[49m\u001b[43mrequest\u001b[49m\u001b[43m.\u001b[49m\u001b[43mbody\u001b[49m\u001b[43m,\u001b[49m\n\u001b[32m    671\u001b[39m \u001b[43m        \u001b[49m\u001b[43mheaders\u001b[49m\u001b[43m=\u001b[49m\u001b[43mrequest\u001b[49m\u001b[43m.\u001b[49m\u001b[43mheaders\u001b[49m\u001b[43m,\u001b[49m\n\u001b[32m    672\u001b[39m \u001b[43m        \u001b[49m\u001b[43mredirect\u001b[49m\u001b[43m=\u001b[49m\u001b[38;5;28;43;01mFalse\u001b[39;49;00m\u001b[43m,\u001b[49m\n\u001b[32m    673\u001b[39m \u001b[43m        \u001b[49m\u001b[43massert_same_host\u001b[49m\u001b[43m=\u001b[49m\u001b[38;5;28;43;01mFalse\u001b[39;49;00m\u001b[43m,\u001b[49m\n\u001b[32m    674\u001b[39m \u001b[43m        \u001b[49m\u001b[43mpreload_content\u001b[49m\u001b[43m=\u001b[49m\u001b[38;5;28;43;01mFalse\u001b[39;49;00m\u001b[43m,\u001b[49m\n\u001b[32m    675\u001b[39m \u001b[43m        \u001b[49m\u001b[43mdecode_content\u001b[49m\u001b[43m=\u001b[49m\u001b[38;5;28;43;01mFalse\u001b[39;49;00m\u001b[43m,\u001b[49m\n\u001b[32m    676\u001b[39m \u001b[43m        \u001b[49m\u001b[43mretries\u001b[49m\u001b[43m=\u001b[49m\u001b[38;5;28;43mself\u001b[39;49m\u001b[43m.\u001b[49m\u001b[43mmax_retries\u001b[49m\u001b[43m,\u001b[49m\n\u001b[32m    677\u001b[39m \u001b[43m        \u001b[49m\u001b[43mtimeout\u001b[49m\u001b[43m=\u001b[49m\u001b[43mtimeout\u001b[49m\u001b[43m,\u001b[49m\n\u001b[32m    678\u001b[39m \u001b[43m        \u001b[49m\u001b[43mchunked\u001b[49m\u001b[43m=\u001b[49m\u001b[43mchunked\u001b[49m\u001b[43m,\u001b[49m\n\u001b[32m    679\u001b[39m \u001b[43m    \u001b[49m\u001b[43m)\u001b[49m\n\u001b[32m    681\u001b[39m \u001b[38;5;28;01mexcept\u001b[39;00m (ProtocolError, \u001b[38;5;167;01mOSError\u001b[39;00m) \u001b[38;5;28;01mas\u001b[39;00m err:\n\u001b[32m    682\u001b[39m     \u001b[38;5;28;01mraise\u001b[39;00m \u001b[38;5;167;01mConnectionError\u001b[39;00m(err, request=request)\n",
      "\u001b[36mFile \u001b[39m\u001b[32m~/Desktop/SKOLARBETE-ITHS/repos/ML-Movie-recommendation/.venv/lib/python3.12/site-packages/urllib3/connectionpool.py:787\u001b[39m, in \u001b[36mHTTPConnectionPool.urlopen\u001b[39m\u001b[34m(self, method, url, body, headers, retries, redirect, assert_same_host, timeout, pool_timeout, release_conn, chunked, body_pos, preload_content, decode_content, **response_kw)\u001b[39m\n\u001b[32m    784\u001b[39m response_conn = conn \u001b[38;5;28;01mif\u001b[39;00m \u001b[38;5;129;01mnot\u001b[39;00m release_conn \u001b[38;5;28;01melse\u001b[39;00m \u001b[38;5;28;01mNone\u001b[39;00m\n\u001b[32m    786\u001b[39m \u001b[38;5;66;03m# Make the request on the HTTPConnection object\u001b[39;00m\n\u001b[32m--> \u001b[39m\u001b[32m787\u001b[39m response = \u001b[38;5;28;43mself\u001b[39;49m\u001b[43m.\u001b[49m\u001b[43m_make_request\u001b[49m\u001b[43m(\u001b[49m\n\u001b[32m    788\u001b[39m \u001b[43m    \u001b[49m\u001b[43mconn\u001b[49m\u001b[43m,\u001b[49m\n\u001b[32m    789\u001b[39m \u001b[43m    \u001b[49m\u001b[43mmethod\u001b[49m\u001b[43m,\u001b[49m\n\u001b[32m    790\u001b[39m \u001b[43m    \u001b[49m\u001b[43murl\u001b[49m\u001b[43m,\u001b[49m\n\u001b[32m    791\u001b[39m \u001b[43m    \u001b[49m\u001b[43mtimeout\u001b[49m\u001b[43m=\u001b[49m\u001b[43mtimeout_obj\u001b[49m\u001b[43m,\u001b[49m\n\u001b[32m    792\u001b[39m \u001b[43m    \u001b[49m\u001b[43mbody\u001b[49m\u001b[43m=\u001b[49m\u001b[43mbody\u001b[49m\u001b[43m,\u001b[49m\n\u001b[32m    793\u001b[39m \u001b[43m    \u001b[49m\u001b[43mheaders\u001b[49m\u001b[43m=\u001b[49m\u001b[43mheaders\u001b[49m\u001b[43m,\u001b[49m\n\u001b[32m    794\u001b[39m \u001b[43m    \u001b[49m\u001b[43mchunked\u001b[49m\u001b[43m=\u001b[49m\u001b[43mchunked\u001b[49m\u001b[43m,\u001b[49m\n\u001b[32m    795\u001b[39m \u001b[43m    \u001b[49m\u001b[43mretries\u001b[49m\u001b[43m=\u001b[49m\u001b[43mretries\u001b[49m\u001b[43m,\u001b[49m\n\u001b[32m    796\u001b[39m \u001b[43m    \u001b[49m\u001b[43mresponse_conn\u001b[49m\u001b[43m=\u001b[49m\u001b[43mresponse_conn\u001b[49m\u001b[43m,\u001b[49m\n\u001b[32m    797\u001b[39m \u001b[43m    \u001b[49m\u001b[43mpreload_content\u001b[49m\u001b[43m=\u001b[49m\u001b[43mpreload_content\u001b[49m\u001b[43m,\u001b[49m\n\u001b[32m    798\u001b[39m \u001b[43m    \u001b[49m\u001b[43mdecode_content\u001b[49m\u001b[43m=\u001b[49m\u001b[43mdecode_content\u001b[49m\u001b[43m,\u001b[49m\n\u001b[32m    799\u001b[39m \u001b[43m    \u001b[49m\u001b[43m*\u001b[49m\u001b[43m*\u001b[49m\u001b[43mresponse_kw\u001b[49m\u001b[43m,\u001b[49m\n\u001b[32m    800\u001b[39m \u001b[43m\u001b[49m\u001b[43m)\u001b[49m\n\u001b[32m    802\u001b[39m \u001b[38;5;66;03m# Everything went great!\u001b[39;00m\n\u001b[32m    803\u001b[39m clean_exit = \u001b[38;5;28;01mTrue\u001b[39;00m\n",
      "\u001b[36mFile \u001b[39m\u001b[32m~/Desktop/SKOLARBETE-ITHS/repos/ML-Movie-recommendation/.venv/lib/python3.12/site-packages/urllib3/connectionpool.py:534\u001b[39m, in \u001b[36mHTTPConnectionPool._make_request\u001b[39m\u001b[34m(self, conn, method, url, body, headers, retries, timeout, chunked, response_conn, preload_content, decode_content, enforce_content_length)\u001b[39m\n\u001b[32m    532\u001b[39m \u001b[38;5;66;03m# Receive the response from the server\u001b[39;00m\n\u001b[32m    533\u001b[39m \u001b[38;5;28;01mtry\u001b[39;00m:\n\u001b[32m--> \u001b[39m\u001b[32m534\u001b[39m     response = \u001b[43mconn\u001b[49m\u001b[43m.\u001b[49m\u001b[43mgetresponse\u001b[49m\u001b[43m(\u001b[49m\u001b[43m)\u001b[49m\n\u001b[32m    535\u001b[39m \u001b[38;5;28;01mexcept\u001b[39;00m (BaseSSLError, \u001b[38;5;167;01mOSError\u001b[39;00m) \u001b[38;5;28;01mas\u001b[39;00m e:\n\u001b[32m    536\u001b[39m     \u001b[38;5;28mself\u001b[39m._raise_timeout(err=e, url=url, timeout_value=read_timeout)\n",
      "\u001b[36mFile \u001b[39m\u001b[32m~/Desktop/SKOLARBETE-ITHS/repos/ML-Movie-recommendation/.venv/lib/python3.12/site-packages/urllib3/connection.py:516\u001b[39m, in \u001b[36mHTTPConnection.getresponse\u001b[39m\u001b[34m(self)\u001b[39m\n\u001b[32m    513\u001b[39m _shutdown = \u001b[38;5;28mgetattr\u001b[39m(\u001b[38;5;28mself\u001b[39m.sock, \u001b[33m\"\u001b[39m\u001b[33mshutdown\u001b[39m\u001b[33m\"\u001b[39m, \u001b[38;5;28;01mNone\u001b[39;00m)\n\u001b[32m    515\u001b[39m \u001b[38;5;66;03m# Get the response from http.client.HTTPConnection\u001b[39;00m\n\u001b[32m--> \u001b[39m\u001b[32m516\u001b[39m httplib_response = \u001b[38;5;28;43msuper\u001b[39;49m\u001b[43m(\u001b[49m\u001b[43m)\u001b[49m\u001b[43m.\u001b[49m\u001b[43mgetresponse\u001b[49m\u001b[43m(\u001b[49m\u001b[43m)\u001b[49m\n\u001b[32m    518\u001b[39m \u001b[38;5;28;01mtry\u001b[39;00m:\n\u001b[32m    519\u001b[39m     assert_header_parsing(httplib_response.msg)\n",
      "\u001b[36mFile \u001b[39m\u001b[32m/opt/homebrew/Cellar/python@3.12/3.12.6/Frameworks/Python.framework/Versions/3.12/lib/python3.12/http/client.py:1428\u001b[39m, in \u001b[36mHTTPConnection.getresponse\u001b[39m\u001b[34m(self)\u001b[39m\n\u001b[32m   1426\u001b[39m \u001b[38;5;28;01mtry\u001b[39;00m:\n\u001b[32m   1427\u001b[39m     \u001b[38;5;28;01mtry\u001b[39;00m:\n\u001b[32m-> \u001b[39m\u001b[32m1428\u001b[39m         \u001b[43mresponse\u001b[49m\u001b[43m.\u001b[49m\u001b[43mbegin\u001b[49m\u001b[43m(\u001b[49m\u001b[43m)\u001b[49m\n\u001b[32m   1429\u001b[39m     \u001b[38;5;28;01mexcept\u001b[39;00m \u001b[38;5;167;01mConnectionError\u001b[39;00m:\n\u001b[32m   1430\u001b[39m         \u001b[38;5;28mself\u001b[39m.close()\n",
      "\u001b[36mFile \u001b[39m\u001b[32m/opt/homebrew/Cellar/python@3.12/3.12.6/Frameworks/Python.framework/Versions/3.12/lib/python3.12/http/client.py:331\u001b[39m, in \u001b[36mHTTPResponse.begin\u001b[39m\u001b[34m(self)\u001b[39m\n\u001b[32m    329\u001b[39m \u001b[38;5;66;03m# read until we get a non-100 response\u001b[39;00m\n\u001b[32m    330\u001b[39m \u001b[38;5;28;01mwhile\u001b[39;00m \u001b[38;5;28;01mTrue\u001b[39;00m:\n\u001b[32m--> \u001b[39m\u001b[32m331\u001b[39m     version, status, reason = \u001b[38;5;28;43mself\u001b[39;49m\u001b[43m.\u001b[49m\u001b[43m_read_status\u001b[49m\u001b[43m(\u001b[49m\u001b[43m)\u001b[49m\n\u001b[32m    332\u001b[39m     \u001b[38;5;28;01mif\u001b[39;00m status != CONTINUE:\n\u001b[32m    333\u001b[39m         \u001b[38;5;28;01mbreak\u001b[39;00m\n",
      "\u001b[36mFile \u001b[39m\u001b[32m/opt/homebrew/Cellar/python@3.12/3.12.6/Frameworks/Python.framework/Versions/3.12/lib/python3.12/http/client.py:292\u001b[39m, in \u001b[36mHTTPResponse._read_status\u001b[39m\u001b[34m(self)\u001b[39m\n\u001b[32m    291\u001b[39m \u001b[38;5;28;01mdef\u001b[39;00m\u001b[38;5;250m \u001b[39m\u001b[34m_read_status\u001b[39m(\u001b[38;5;28mself\u001b[39m):\n\u001b[32m--> \u001b[39m\u001b[32m292\u001b[39m     line = \u001b[38;5;28mstr\u001b[39m(\u001b[38;5;28;43mself\u001b[39;49m\u001b[43m.\u001b[49m\u001b[43mfp\u001b[49m\u001b[43m.\u001b[49m\u001b[43mreadline\u001b[49m\u001b[43m(\u001b[49m\u001b[43m_MAXLINE\u001b[49m\u001b[43m \u001b[49m\u001b[43m+\u001b[49m\u001b[43m \u001b[49m\u001b[32;43m1\u001b[39;49m\u001b[43m)\u001b[49m, \u001b[33m\"\u001b[39m\u001b[33miso-8859-1\u001b[39m\u001b[33m\"\u001b[39m)\n\u001b[32m    293\u001b[39m     \u001b[38;5;28;01mif\u001b[39;00m \u001b[38;5;28mlen\u001b[39m(line) > _MAXLINE:\n\u001b[32m    294\u001b[39m         \u001b[38;5;28;01mraise\u001b[39;00m LineTooLong(\u001b[33m\"\u001b[39m\u001b[33mstatus line\u001b[39m\u001b[33m\"\u001b[39m)\n",
      "\u001b[36mFile \u001b[39m\u001b[32m/opt/homebrew/Cellar/python@3.12/3.12.6/Frameworks/Python.framework/Versions/3.12/lib/python3.12/socket.py:720\u001b[39m, in \u001b[36mSocketIO.readinto\u001b[39m\u001b[34m(self, b)\u001b[39m\n\u001b[32m    718\u001b[39m \u001b[38;5;28;01mwhile\u001b[39;00m \u001b[38;5;28;01mTrue\u001b[39;00m:\n\u001b[32m    719\u001b[39m     \u001b[38;5;28;01mtry\u001b[39;00m:\n\u001b[32m--> \u001b[39m\u001b[32m720\u001b[39m         \u001b[38;5;28;01mreturn\u001b[39;00m \u001b[38;5;28;43mself\u001b[39;49m\u001b[43m.\u001b[49m\u001b[43m_sock\u001b[49m\u001b[43m.\u001b[49m\u001b[43mrecv_into\u001b[49m\u001b[43m(\u001b[49m\u001b[43mb\u001b[49m\u001b[43m)\u001b[49m\n\u001b[32m    721\u001b[39m     \u001b[38;5;28;01mexcept\u001b[39;00m timeout:\n\u001b[32m    722\u001b[39m         \u001b[38;5;28mself\u001b[39m._timeout_occurred = \u001b[38;5;28;01mTrue\u001b[39;00m\n",
      "\u001b[36mFile \u001b[39m\u001b[32m/opt/homebrew/Cellar/python@3.12/3.12.6/Frameworks/Python.framework/Versions/3.12/lib/python3.12/ssl.py:1251\u001b[39m, in \u001b[36mSSLSocket.recv_into\u001b[39m\u001b[34m(self, buffer, nbytes, flags)\u001b[39m\n\u001b[32m   1247\u001b[39m     \u001b[38;5;28;01mif\u001b[39;00m flags != \u001b[32m0\u001b[39m:\n\u001b[32m   1248\u001b[39m         \u001b[38;5;28;01mraise\u001b[39;00m \u001b[38;5;167;01mValueError\u001b[39;00m(\n\u001b[32m   1249\u001b[39m           \u001b[33m\"\u001b[39m\u001b[33mnon-zero flags not allowed in calls to recv_into() on \u001b[39m\u001b[38;5;132;01m%s\u001b[39;00m\u001b[33m\"\u001b[39m %\n\u001b[32m   1250\u001b[39m           \u001b[38;5;28mself\u001b[39m.\u001b[34m__class__\u001b[39m)\n\u001b[32m-> \u001b[39m\u001b[32m1251\u001b[39m     \u001b[38;5;28;01mreturn\u001b[39;00m \u001b[38;5;28;43mself\u001b[39;49m\u001b[43m.\u001b[49m\u001b[43mread\u001b[49m\u001b[43m(\u001b[49m\u001b[43mnbytes\u001b[49m\u001b[43m,\u001b[49m\u001b[43m \u001b[49m\u001b[43mbuffer\u001b[49m\u001b[43m)\u001b[49m\n\u001b[32m   1252\u001b[39m \u001b[38;5;28;01melse\u001b[39;00m:\n\u001b[32m   1253\u001b[39m     \u001b[38;5;28;01mreturn\u001b[39;00m \u001b[38;5;28msuper\u001b[39m().recv_into(buffer, nbytes, flags)\n",
      "\u001b[36mFile \u001b[39m\u001b[32m/opt/homebrew/Cellar/python@3.12/3.12.6/Frameworks/Python.framework/Versions/3.12/lib/python3.12/ssl.py:1103\u001b[39m, in \u001b[36mSSLSocket.read\u001b[39m\u001b[34m(self, len, buffer)\u001b[39m\n\u001b[32m   1101\u001b[39m \u001b[38;5;28;01mtry\u001b[39;00m:\n\u001b[32m   1102\u001b[39m     \u001b[38;5;28;01mif\u001b[39;00m buffer \u001b[38;5;129;01mis\u001b[39;00m \u001b[38;5;129;01mnot\u001b[39;00m \u001b[38;5;28;01mNone\u001b[39;00m:\n\u001b[32m-> \u001b[39m\u001b[32m1103\u001b[39m         \u001b[38;5;28;01mreturn\u001b[39;00m \u001b[38;5;28;43mself\u001b[39;49m\u001b[43m.\u001b[49m\u001b[43m_sslobj\u001b[49m\u001b[43m.\u001b[49m\u001b[43mread\u001b[49m\u001b[43m(\u001b[49m\u001b[38;5;28;43mlen\u001b[39;49m\u001b[43m,\u001b[49m\u001b[43m \u001b[49m\u001b[43mbuffer\u001b[49m\u001b[43m)\u001b[49m\n\u001b[32m   1104\u001b[39m     \u001b[38;5;28;01melse\u001b[39;00m:\n\u001b[32m   1105\u001b[39m         \u001b[38;5;28;01mreturn\u001b[39;00m \u001b[38;5;28mself\u001b[39m._sslobj.read(\u001b[38;5;28mlen\u001b[39m)\n",
      "\u001b[31mKeyboardInterrupt\u001b[39m: "
     ]
    }
   ],
   "source": [
    "import pandas as pd\n",
    "import requests\n",
    "import re\n",
    "import time\n",
    "from tqdm import tqdm\n",
    "import multiprocessing\n",
    "\n",
    "\n",
    "# Function from letterboxd2imdb.py\n",
    "def get_imdb_id(letterboxd_uri):\n",
    "    try:\n",
    "        resp = requests.get(letterboxd_uri)\n",
    "        if resp.status_code != 200:\n",
    "            return None\n",
    "\n",
    "        # Extract the IMDb ID\n",
    "        re_match = re.findall(r'href=\".+title/(tt\\d+)/maindetails\"', resp.text)\n",
    "        if not re_match:\n",
    "            return None\n",
    "\n",
    "        return re_match[0]\n",
    "    except Exception as e:\n",
    "        print(f\"Error fetching {letterboxd_uri}: {e}\")\n",
    "        return None\n",
    "\n",
    "# Load data\n",
    "letterboxd_df = pd.read_csv('letterboxd_films.csv')\n",
    "links_df = pd.read_csv('data/links.csv')\n",
    "\n",
    "# Convert imdbId in links to string with 'tt' prefix for proper matching\n",
    "links_df['imdb_id'] = links_df['imdbId'].apply(lambda x: f\"tt{x:07d}\")\n",
    "\n",
    "# Create Letterboxd URIs and lookup IMDb IDs\n",
    "print(\"Looking up IMDb IDs from Letterboxd...\")\n",
    "imdb_ids = []\n",
    "for name in tqdm(letterboxd_df['name']):\n",
    "    # Construct Letterboxd URI\n",
    "    letterboxd_uri = f\"https://letterboxd.com/film/{name}/\"\n",
    "    \n",
    "    # Get IMDb ID with a small delay to be nice to their servers\n",
    "    imdb_id = get_imdb_id(letterboxd_uri)\n",
    "    imdb_ids.append(imdb_id)\n",
    "    time.sleep(0.5)  # Add a delay to avoid hitting rate limits\n",
    "\n",
    "# Add IMDb IDs to DataFrame\n",
    "letterboxd_df['imdb_id'] = imdb_ids\n",
    "\n",
    "# Now match with links.csv to get movieId\n",
    "print(\"Matching with MovieLens IDs...\")\n",
    "letterboxd_df = letterboxd_df.merge(\n",
    "    links_df[['movieId', 'imdb_id']], \n",
    "    on='imdb_id', \n",
    "    how='left'\n",
    ")\n",
    "\n",
    "# Add tmdbId from links.csv\n",
    "letterboxd_df = letterboxd_df.merge(\n",
    "    links_df[['movieId', 'tmdbId']], \n",
    "    on='movieId', \n",
    "    how='left'\n",
    ")\n",
    "\n",
    "# Create Letterboxd URL using TMDb ID where available\n",
    "letterboxd_df['letterboxd_url'] = letterboxd_df['tmdbId'].apply(\n",
    "    lambda x: f\"https://letterboxd.com/tmdb/{int(x)}/\" if pd.notna(x) else None\n",
    ")\n",
    "\n",
    "# Save results\n",
    "letterboxd_df.to_csv('letterboxd_films_with_ids.csv', index=False)\n",
    "\n",
    "# Print statistics\n",
    "matched = letterboxd_df['movieId'].notnull().sum()\n",
    "print(f\"Successfully matched {matched} out of {len(letterboxd_df)} movies ({matched/len(letterboxd_df)*100:.1f}%)\")\n",
    "\n",
    "# Print some examples\n",
    "print(\"\\nSample matches:\")\n",
    "sample = letterboxd_df.sample(min(10, len(letterboxd_df)))\n",
    "for _, row in sample.iterrows():\n",
    "    print(f\"{row['name']} → IMDb ID: {row['imdb_id'] or 'Not found'} → MovieId: {row['movieId'] if pd.notna(row['movieId']) else 'Not found'}\")"
   ]
  }
 ],
 "metadata": {
  "kernelspec": {
   "display_name": ".venv",
   "language": "python",
   "name": "python3"
  },
  "language_info": {
   "codemirror_mode": {
    "name": "ipython",
    "version": 3
   },
   "file_extension": ".py",
   "mimetype": "text/x-python",
   "name": "python",
   "nbconvert_exporter": "python",
   "pygments_lexer": "ipython3",
   "version": "3.12.6"
  }
 },
 "nbformat": 4,
 "nbformat_minor": 2
}
