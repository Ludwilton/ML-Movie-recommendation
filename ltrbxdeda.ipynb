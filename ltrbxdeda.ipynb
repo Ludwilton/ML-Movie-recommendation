{
 "cells": [
  {
   "cell_type": "code",
   "execution_count": 20,
   "metadata": {},
   "outputs": [
    {
     "data": {
      "application/vnd.microsoft.datawrangler.viewer.v0+json": {
       "columns": [
        {
         "name": "index",
         "rawType": "int64",
         "type": "integer"
        },
        {
         "name": "name",
         "rawType": "object",
         "type": "string"
        },
        {
         "name": "rating",
         "rawType": "object",
         "type": "string"
        },
        {
         "name": "genres",
         "rawType": "object",
         "type": "string"
        },
        {
         "name": "avg_user_rating",
         "rawType": "float64",
         "type": "float"
        }
       ],
       "conversionMethod": "pd.DataFrame",
       "ref": "0c3f5150-9e4b-4842-8843-80dd53e2ae19",
       "rows": [
        [
         "0",
         "mickey-17",
         "★★★★",
         "Comedy, Adventure, Science Fiction",
         "3.7"
        ],
        [
         "1",
         "companion-2025",
         "★★★★",
         "Thriller, Horror, Science Fiction, Comedy",
         "3.5"
        ],
        [
         "2",
         "nosferatu-2024",
         "★★★½",
         "Fantasy, Horror",
         "3.7"
        ],
        [
         "3",
         "gladiator-ii",
         "★★★★",
         "Drama, Action, Adventure",
         "3.3"
        ],
        [
         "4",
         "the-wild-robot",
         "★★★★½",
         "Family, Science Fiction, Animation",
         "4.2"
        ],
        [
         "5",
         "we-live-in-time",
         "★★★½",
         "Drama, Romance",
         "3.7"
        ],
        [
         "6",
         "conclave",
         "★★★½",
         "Drama, Thriller, Mystery",
         "3.9"
        ],
        [
         "7",
         "better-man-2024",
         "★½",
         "Music, Drama",
         "3.8"
        ],
        [
         "8",
         "alien-romulus",
         "★★★★",
         "Science Fiction, Horror",
         "3.6"
        ],
        [
         "9",
         "deadpool-wolverine",
         "★★★",
         "Science Fiction, Action, Comedy",
         "3.5"
        ],
        [
         "10",
         "a-quiet-place-day-one",
         "★★★",
         "Thriller, Science Fiction, Horror",
         "3.2"
        ],
        [
         "11",
         "maxxxine",
         "★★★★",
         "Crime, Horror, Mystery",
         "3.1"
        ],
        [
         "12",
         "inside-out-2-2024",
         "★★★★",
         "Comedy, Family, Animation, Adventure",
         "3.6"
        ],
        [
         "13",
         "summer-times-2024",
         "★★½",
         "Music, Drama",
         "3.4"
        ],
        [
         "14",
         "flow-2024",
         "★★★½",
         "Adventure, Fantasy, Animation",
         "4.1"
        ],
        [
         "15",
         "anora",
         "★★★½",
         "Drama, Romance, Comedy",
         "3.9"
        ],
        [
         "16",
         "the-substance",
         "★★★★",
         "Horror, Comedy, Drama, Science Fiction",
         "3.8"
        ],
        [
         "17",
         "the-balconettes",
         "★★½",
         "Comedy, Horror, Fantasy",
         "3.3"
        ],
        [
         "18",
         "the-last-journey-2024",
         "★★★★½",
         "Documentary",
         "3.8"
        ],
        [
         "19",
         "dune-part-two",
         "★★★★★",
         "Adventure, Science Fiction",
         "4.4"
        ],
        [
         "20",
         "a-real-pain",
         "★★½",
         "Comedy, Drama",
         "3.7"
        ],
        [
         "21",
         "a-heart-is-always-red",
         "★★★½",
         "Music, Documentary",
         "3.6"
        ],
        [
         "22",
         "the-remarkable-life-of-ibelin",
         "★★★★",
         "Documentary, Animation",
         "4.1"
        ],
        [
         "23",
         "godzilla-minus-one",
         "★★★★",
         "Horror, Science Fiction, Action",
         "4.1"
        ],
        [
         "24",
         "saw-x",
         "★★½",
         "Thriller, Horror, Mystery",
         "3.2"
        ],
        [
         "25",
         "the-creator-2023",
         "★★★½",
         "Action, Science Fiction, Adventure",
         "3.3"
        ],
        [
         "26",
         "dream-scenario",
         "★★½",
         "Comedy, Fantasy",
         "3.4"
        ],
        [
         "27",
         "poor-things-2023",
         "★★★★½",
         "Romance, Science Fiction, Comedy",
         "4.0"
        ],
        [
         "28",
         "the-holdovers",
         "★★★★",
         "Comedy, Drama",
         "4.2"
        ],
        [
         "29",
         "teenage-mutant-ninja-turtles-mutant-mayhem",
         "★★★",
         "Action, Comedy, Animation, Science Fiction",
         "3.8"
        ],
        [
         "30",
         "oppenheimer-2023",
         "★★★★½",
         "History, Drama",
         "4.2"
        ],
        [
         "31",
         "barbie",
         "★★★½",
         "Comedy, Adventure",
         "3.8"
        ],
        [
         "32",
         "spider-man-across-the-spider-verse",
         "★★★★★",
         "Animation, Adventure, Science Fiction, Action",
         "4.4"
        ],
        [
         "33",
         "asteroid-city",
         "★★★½",
         "Comedy, Drama",
         "3.5"
        ],
        [
         "34",
         "club-zero",
         "★★★",
         "Comedy, Thriller, Drama",
         "2.9"
        ],
        [
         "35",
         "guardians-of-the-galaxy-vol-3",
         "★★★★",
         "Action, Adventure, Science Fiction, Comedy",
         "4.0"
        ],
        [
         "36",
         "john-wick-chapter-4",
         "★★½",
         "Action, Thriller, Crime",
         "3.9"
        ],
        [
         "37",
         "ant-man-and-the-wasp-quantumania",
         "★★½",
         "Adventure, Science Fiction, Action",
         "2.2"
        ],
        [
         "38",
         "watch-the-skies-2022",
         "★★★",
         "Science Fiction, Adventure",
         "3.2"
        ],
        [
         "39",
         "avatar-the-way-of-water",
         "★★★",
         "Action, Adventure, Science Fiction",
         "3.6"
        ],
        [
         "40",
         "puss-in-boots-the-last-wish",
         "★★★★",
         "Animation, Family, Fantasy, Comedy, Adventure",
         "4.1"
        ],
        [
         "41",
         "the-menu-2022",
         "★★★",
         "Comedy, Thriller, Horror",
         "3.5"
        ],
        [
         "42",
         "glass-onion",
         "★★★½",
         "Comedy, Crime, Mystery",
         "3.4"
        ],
        [
         "43",
         "the-banshees-of-inisherin",
         "★★★★½",
         "Comedy, Drama",
         "4.1"
        ],
        [
         "44",
         "pearl-2022",
         "★★★½",
         "Horror",
         "3.7"
        ],
        [
         "45",
         "inside-the-mind-of-a-cat",
         "★★★",
         "Documentary",
         "3.6"
        ],
        [
         "46",
         "trainwreck-woodstock-99",
         "★★★",
         "Documentary, Music",
         "3.5"
        ],
        [
         "47",
         "nope",
         "★★★½",
         "Mystery, Science Fiction, Horror, Thriller",
         "3.7"
        ],
        [
         "48",
         "thor-love-and-thunder",
         "★★★",
         "Action, Fantasy, Comedy",
         "2.4"
        ],
        [
         "49",
         "obi-wan-kenobi-the-patterson-cut",
         "★★½",
         "Drama",
         "3.1"
        ]
       ],
       "shape": {
        "columns": 4,
        "rows": 469
       }
      },
      "text/html": [
       "<div>\n",
       "<style scoped>\n",
       "    .dataframe tbody tr th:only-of-type {\n",
       "        vertical-align: middle;\n",
       "    }\n",
       "\n",
       "    .dataframe tbody tr th {\n",
       "        vertical-align: top;\n",
       "    }\n",
       "\n",
       "    .dataframe thead th {\n",
       "        text-align: right;\n",
       "    }\n",
       "</style>\n",
       "<table border=\"1\" class=\"dataframe\">\n",
       "  <thead>\n",
       "    <tr style=\"text-align: right;\">\n",
       "      <th></th>\n",
       "      <th>name</th>\n",
       "      <th>rating</th>\n",
       "      <th>genres</th>\n",
       "      <th>avg_user_rating</th>\n",
       "    </tr>\n",
       "  </thead>\n",
       "  <tbody>\n",
       "    <tr>\n",
       "      <th>0</th>\n",
       "      <td>mickey-17</td>\n",
       "      <td>★★★★</td>\n",
       "      <td>Comedy, Adventure, Science Fiction</td>\n",
       "      <td>3.7</td>\n",
       "    </tr>\n",
       "    <tr>\n",
       "      <th>1</th>\n",
       "      <td>companion-2025</td>\n",
       "      <td>★★★★</td>\n",
       "      <td>Thriller, Horror, Science Fiction, Comedy</td>\n",
       "      <td>3.5</td>\n",
       "    </tr>\n",
       "    <tr>\n",
       "      <th>2</th>\n",
       "      <td>nosferatu-2024</td>\n",
       "      <td>★★★½</td>\n",
       "      <td>Fantasy, Horror</td>\n",
       "      <td>3.7</td>\n",
       "    </tr>\n",
       "    <tr>\n",
       "      <th>3</th>\n",
       "      <td>gladiator-ii</td>\n",
       "      <td>★★★★</td>\n",
       "      <td>Drama, Action, Adventure</td>\n",
       "      <td>3.3</td>\n",
       "    </tr>\n",
       "    <tr>\n",
       "      <th>4</th>\n",
       "      <td>the-wild-robot</td>\n",
       "      <td>★★★★½</td>\n",
       "      <td>Family, Science Fiction, Animation</td>\n",
       "      <td>4.2</td>\n",
       "    </tr>\n",
       "    <tr>\n",
       "      <th>...</th>\n",
       "      <td>...</td>\n",
       "      <td>...</td>\n",
       "      <td>...</td>\n",
       "      <td>...</td>\n",
       "    </tr>\n",
       "    <tr>\n",
       "      <th>464</th>\n",
       "      <td>grease</td>\n",
       "      <td>★★★</td>\n",
       "      <td>Comedy, Romance</td>\n",
       "      <td>3.5</td>\n",
       "    </tr>\n",
       "    <tr>\n",
       "      <th>465</th>\n",
       "      <td>star-wars</td>\n",
       "      <td>★★★★</td>\n",
       "      <td>Adventure, Action, Science Fiction</td>\n",
       "      <td>4.2</td>\n",
       "    </tr>\n",
       "    <tr>\n",
       "      <th>466</th>\n",
       "      <td>rocky</td>\n",
       "      <td>★★★</td>\n",
       "      <td>Drama</td>\n",
       "      <td>4.1</td>\n",
       "    </tr>\n",
       "    <tr>\n",
       "      <th>467</th>\n",
       "      <td>the-exorcist</td>\n",
       "      <td>★★★★</td>\n",
       "      <td>Horror</td>\n",
       "      <td>4.0</td>\n",
       "    </tr>\n",
       "    <tr>\n",
       "      <th>468</th>\n",
       "      <td>2001-a-space-odyssey</td>\n",
       "      <td>★★★½</td>\n",
       "      <td>Adventure, Mystery, Science Fiction</td>\n",
       "      <td>4.3</td>\n",
       "    </tr>\n",
       "  </tbody>\n",
       "</table>\n",
       "<p>469 rows × 4 columns</p>\n",
       "</div>"
      ],
      "text/plain": [
       "                     name rating                                     genres  \\\n",
       "0               mickey-17   ★★★★         Comedy, Adventure, Science Fiction   \n",
       "1          companion-2025   ★★★★  Thriller, Horror, Science Fiction, Comedy   \n",
       "2          nosferatu-2024   ★★★½                            Fantasy, Horror   \n",
       "3            gladiator-ii   ★★★★                   Drama, Action, Adventure   \n",
       "4          the-wild-robot  ★★★★½         Family, Science Fiction, Animation   \n",
       "..                    ...    ...                                        ...   \n",
       "464                grease    ★★★                            Comedy, Romance   \n",
       "465             star-wars   ★★★★         Adventure, Action, Science Fiction   \n",
       "466                 rocky    ★★★                                      Drama   \n",
       "467          the-exorcist   ★★★★                                     Horror   \n",
       "468  2001-a-space-odyssey   ★★★½        Adventure, Mystery, Science Fiction   \n",
       "\n",
       "     avg_user_rating  \n",
       "0                3.7  \n",
       "1                3.5  \n",
       "2                3.7  \n",
       "3                3.3  \n",
       "4                4.2  \n",
       "..               ...  \n",
       "464              3.5  \n",
       "465              4.2  \n",
       "466              4.1  \n",
       "467              4.0  \n",
       "468              4.3  \n",
       "\n",
       "[469 rows x 4 columns]"
      ]
     },
     "execution_count": 20,
     "metadata": {},
     "output_type": "execute_result"
    }
   ],
   "source": [
    "import pandas as pd\n",
    "\n",
    "df = pd.read_csv(\"./letterboxd_films.csv\")\n",
    "\n",
    "df"
   ]
  }
 ],
 "metadata": {
  "kernelspec": {
   "display_name": ".venv",
   "language": "python",
   "name": "python3"
  },
  "language_info": {
   "codemirror_mode": {
    "name": "ipython",
    "version": 3
   },
   "file_extension": ".py",
   "mimetype": "text/x-python",
   "name": "python",
   "nbconvert_exporter": "python",
   "pygments_lexer": "ipython3",
   "version": "3.12.6"
  }
 },
 "nbformat": 4,
 "nbformat_minor": 2
}
