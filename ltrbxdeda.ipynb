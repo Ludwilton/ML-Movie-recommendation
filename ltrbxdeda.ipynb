{
 "cells": [
  {
   "cell_type": "code",
   "execution_count": 9,
   "metadata": {},
   "outputs": [
    {
     "data": {
      "application/vnd.microsoft.datawrangler.viewer.v0+json": {
       "columns": [
        {
         "name": "index",
         "rawType": "int64",
         "type": "integer"
        },
        {
         "name": "name",
         "rawType": "object",
         "type": "string"
        },
        {
         "name": "rating",
         "rawType": "object",
         "type": "string"
        },
        {
         "name": "genres",
         "rawType": "object",
         "type": "string"
        },
        {
         "name": "avg_user_rating",
         "rawType": "object",
         "type": "string"
        }
       ],
       "conversionMethod": "pd.DataFrame",
       "ref": "92293bbe-da2f-47b8-b247-1360d5da4436",
       "rows": [
        [
         "0",
         "a-complete-unknown",
         "★★★½",
         "Drama, Music",
         "3.6"
        ],
        [
         "1",
         "bonjour-tristesse-2024",
         "★★★★",
         "Romance, Drama",
         "3.3"
        ],
        [
         "2",
         "alien-romulus",
         "★★",
         "Science Fiction, Horror",
         "3.6"
        ],
        [
         "3",
         "blur-to-the-end",
         "★★★",
         "Documentary, Music",
         "3.8"
        ],
        [
         "4",
         "one-day-2024",
         "★★★★",
         "Drama",
         "4.1"
        ],
        [
         "5",
         "dune-part-two",
         "★★★½",
         "Adventure, Science Fiction",
         "4.4"
        ],
        [
         "6",
         "hit-man-2023",
         "★½",
         "Comedy, Crime, Romance",
         "3.3"
        ],
        [
         "7",
         "poor-things-2023",
         "★★★",
         "Romance, Science Fiction, Comedy",
         "4.0"
        ],
        [
         "8",
         "the-boy-and-the-heron",
         "★★★★½",
         "Animation, Adventure, Fantasy, Family, Drama",
         "3.9"
        ],
        [
         "9",
         "barbie",
         "No Rating",
         "Comedy, Adventure",
         "3.8"
        ],
        [
         "10",
         "no-hard-feelings-2023",
         "★½",
         "Comedy, Romance",
         "3.0"
        ],
        [
         "11",
         "indiana-jones-and-the-dial-of-destiny",
         "★",
         "Action, Adventure",
         "2.9"
        ],
        [
         "12",
         "burn-all-my-letters",
         "½",
         "Drama, History",
         "3.3"
        ],
        [
         "13",
         "elvis-2022",
         "½",
         "History, Drama, Music",
         "3.3"
        ],
        [
         "14",
         "sick-of-myself",
         "★★½",
         "Drama, Comedy",
         "3.7"
        ],
        [
         "15",
         "triangle-of-sadness",
         "★★★★",
         "Drama, Comedy",
         "3.7"
        ],
        [
         "16",
         "corsage",
         "★★",
         "Drama, History",
         "3.5"
        ],
        [
         "17",
         "clark-2022",
         "★★★★",
         "Crime, Drama",
         "3.7"
        ],
        [
         "18",
         "fantastic-beasts-the-secrets-of-dumbledore",
         "No Rating",
         "Fantasy, Adventure",
         "2.6"
        ],
        [
         "19",
         "everything-everywhere-all-at-once",
         "★★★½",
         "Science Fiction, Adventure, Comedy, Action",
         "4.3"
        ],
        [
         "20",
         "uncharted-2022",
         "★",
         "Action, Adventure",
         "2.6"
        ],
        [
         "21",
         "tick-tick-boom-2021",
         "★★½",
         "Drama, Music",
         "3.8"
        ],
        [
         "22",
         "dune-2021",
         "★★★",
         "Science Fiction, Adventure",
         "3.9"
        ],
        [
         "23",
         "the-french-dispatch",
         "No Rating",
         "Drama, Comedy",
         "3.7"
        ],
        [
         "24",
         "the-worst-person-in-the-world",
         "★",
         "Drama, Romance, Comedy",
         "4.1"
        ],
        [
         "25",
         "we-are-who-we-are",
         "★★★★★",
         "Drama",
         "4.0"
        ],
        [
         "26",
         "another-round",
         "★★★★½",
         "Drama, Comedy",
         "4.1"
        ],
        [
         "27",
         "dating-amber",
         "★★★★",
         "Drama, Comedy, Romance",
         "3.6"
        ],
        [
         "28",
         "normal-people-2020",
         "★★★★★",
         "Drama",
         "4.4"
        ],
        [
         "29",
         "little-women-2019",
         "★★★",
         "Romance, History, Drama",
         "4.2"
        ],
        [
         "30",
         "jojo-rabbit",
         "No Rating",
         "War, Drama, Comedy",
         "4.0"
        ],
        [
         "31",
         "once-upon-a-time-in-hollywood",
         "No Rating",
         "Drama, Thriller, Comedy",
         "3.8"
        ],
        [
         "32",
         "portrait-of-a-lady-on-fire",
         "★★★★",
         "History, Drama, Romance",
         "4.4"
        ],
        [
         "33",
         "eighth-grade",
         "No Rating",
         "Comedy, Drama",
         "3.8"
        ],
        [
         "34",
         "ted-show-me-love",
         "No Rating",
         "Drama, Music",
         "3.4"
        ],
        [
         "35",
         "i-tonya",
         "No Rating",
         "Drama, Comedy",
         "3.9"
        ],
        [
         "36",
         "borg-vs-mcenroe",
         "No Rating",
         "Drama, History",
         "3.4"
        ],
        [
         "37",
         "lady-bird",
         "★★★★★",
         "Comedy, Drama",
         "3.8"
        ],
        [
         "38",
         "the-shape-of-water",
         "No Rating",
         "Fantasy, Drama, Romance",
         "3.7"
        ],
        [
         "39",
         "bpm-beats-per-minute",
         "★★★",
         "Drama",
         "4.0"
        ],
        [
         "40",
         "ghost-in-the-shell-2017",
         "No Rating",
         "Drama, Action, Science Fiction",
         "2.6"
        ],
        [
         "41",
         "baby-driver",
         "★★★",
         "Crime, Action",
         "3.7"
        ],
        [
         "42",
         "call-me-by-your-name",
         "★★★★★",
         "Romance, Drama",
         "3.9"
        ],
        [
         "43",
         "rogue-one-a-star-wars-story",
         "No Rating",
         "Adventure, Science Fiction, Action",
         "3.8"
        ],
        [
         "44",
         "doctor-strange-2016",
         "No Rating",
         "Action, Adventure, Fantasy",
         "3.5"
        ],
        [
         "45",
         "split-2016",
         "★★½",
         "Thriller, Horror",
         "3.5"
        ],
        [
         "46",
         "a-serious-game",
         "★★★★★",
         "Romance, Drama",
         "3.3"
        ],
        [
         "47",
         "la-la-land",
         "★★★★½",
         "Drama, Comedy, Music, Romance",
         "4.1"
        ],
        [
         "48",
         "bad-moms",
         "★★½",
         "Comedy",
         "2.8"
        ],
        [
         "49",
         "the-neon-demon",
         "No Rating",
         "Thriller, Horror",
         "3.2"
        ]
       ],
       "shape": {
        "columns": 4,
        "rows": 176
       }
      },
      "text/html": [
       "<div>\n",
       "<style scoped>\n",
       "    .dataframe tbody tr th:only-of-type {\n",
       "        vertical-align: middle;\n",
       "    }\n",
       "\n",
       "    .dataframe tbody tr th {\n",
       "        vertical-align: top;\n",
       "    }\n",
       "\n",
       "    .dataframe thead th {\n",
       "        text-align: right;\n",
       "    }\n",
       "</style>\n",
       "<table border=\"1\" class=\"dataframe\">\n",
       "  <thead>\n",
       "    <tr style=\"text-align: right;\">\n",
       "      <th></th>\n",
       "      <th>name</th>\n",
       "      <th>rating</th>\n",
       "      <th>genres</th>\n",
       "      <th>avg_user_rating</th>\n",
       "    </tr>\n",
       "  </thead>\n",
       "  <tbody>\n",
       "    <tr>\n",
       "      <th>0</th>\n",
       "      <td>a-complete-unknown</td>\n",
       "      <td>★★★½</td>\n",
       "      <td>Drama, Music</td>\n",
       "      <td>3.6</td>\n",
       "    </tr>\n",
       "    <tr>\n",
       "      <th>1</th>\n",
       "      <td>bonjour-tristesse-2024</td>\n",
       "      <td>★★★★</td>\n",
       "      <td>Romance, Drama</td>\n",
       "      <td>3.3</td>\n",
       "    </tr>\n",
       "    <tr>\n",
       "      <th>2</th>\n",
       "      <td>alien-romulus</td>\n",
       "      <td>★★</td>\n",
       "      <td>Science Fiction, Horror</td>\n",
       "      <td>3.6</td>\n",
       "    </tr>\n",
       "    <tr>\n",
       "      <th>3</th>\n",
       "      <td>blur-to-the-end</td>\n",
       "      <td>★★★</td>\n",
       "      <td>Documentary, Music</td>\n",
       "      <td>3.8</td>\n",
       "    </tr>\n",
       "    <tr>\n",
       "      <th>4</th>\n",
       "      <td>one-day-2024</td>\n",
       "      <td>★★★★</td>\n",
       "      <td>Drama</td>\n",
       "      <td>4.1</td>\n",
       "    </tr>\n",
       "    <tr>\n",
       "      <th>...</th>\n",
       "      <td>...</td>\n",
       "      <td>...</td>\n",
       "      <td>...</td>\n",
       "      <td>...</td>\n",
       "    </tr>\n",
       "    <tr>\n",
       "      <th>171</th>\n",
       "      <td>purple-noon</td>\n",
       "      <td>★★★</td>\n",
       "      <td>Drama, Crime, Thriller</td>\n",
       "      <td>4.0</td>\n",
       "    </tr>\n",
       "    <tr>\n",
       "      <th>172</th>\n",
       "      <td>1984</td>\n",
       "      <td>★★★</td>\n",
       "      <td>Drama, Science Fiction</td>\n",
       "      <td>3.2</td>\n",
       "    </tr>\n",
       "    <tr>\n",
       "      <th>173</th>\n",
       "      <td>rebel-without-a-cause</td>\n",
       "      <td>No Rating</td>\n",
       "      <td>Drama</td>\n",
       "      <td>3.8</td>\n",
       "    </tr>\n",
       "    <tr>\n",
       "      <th>174</th>\n",
       "      <td>summer-interlude</td>\n",
       "      <td>★★★★</td>\n",
       "      <td>Drama, Romance</td>\n",
       "      <td>3.8</td>\n",
       "    </tr>\n",
       "    <tr>\n",
       "      <th>175</th>\n",
       "      <td>citizen-kane</td>\n",
       "      <td>No Rating</td>\n",
       "      <td>Drama, Mystery</td>\n",
       "      <td>4.2</td>\n",
       "    </tr>\n",
       "  </tbody>\n",
       "</table>\n",
       "<p>176 rows × 4 columns</p>\n",
       "</div>"
      ],
      "text/plain": [
       "                       name     rating                   genres  \\\n",
       "0        a-complete-unknown       ★★★½             Drama, Music   \n",
       "1    bonjour-tristesse-2024       ★★★★           Romance, Drama   \n",
       "2             alien-romulus         ★★  Science Fiction, Horror   \n",
       "3           blur-to-the-end        ★★★       Documentary, Music   \n",
       "4              one-day-2024       ★★★★                    Drama   \n",
       "..                      ...        ...                      ...   \n",
       "171             purple-noon        ★★★   Drama, Crime, Thriller   \n",
       "172                    1984        ★★★   Drama, Science Fiction   \n",
       "173   rebel-without-a-cause  No Rating                    Drama   \n",
       "174        summer-interlude       ★★★★           Drama, Romance   \n",
       "175            citizen-kane  No Rating           Drama, Mystery   \n",
       "\n",
       "    avg_user_rating  \n",
       "0               3.6  \n",
       "1               3.3  \n",
       "2               3.6  \n",
       "3               3.8  \n",
       "4               4.1  \n",
       "..              ...  \n",
       "171             4.0  \n",
       "172             3.2  \n",
       "173             3.8  \n",
       "174             3.8  \n",
       "175             4.2  \n",
       "\n",
       "[176 rows x 4 columns]"
      ]
     },
     "execution_count": 9,
     "metadata": {},
     "output_type": "execute_result"
    }
   ],
   "source": [
    "import pandas as pd\n",
    "\n",
    "df = pd.read_csv(\"./letterboxd_films.csv\")\n",
    "\n",
    "df"
   ]
  },
  {
   "cell_type": "code",
   "execution_count": 10,
   "metadata": {},
   "outputs": [],
   "source": [
    "# Convert the rating to a numerical format\n",
    "rating_map = {\n",
    "    '½': 0.5,\n",
    "    '★': 1,\n",
    "    '★½': 1.5,\n",
    "    '★★': 2,\n",
    "    '★★½': 2.5,\n",
    "    '★★★': 3,\n",
    "    '★★★½': 3.5,\n",
    "    '★★★★': 4,\n",
    "    '★★★★½': 4.5,\n",
    "    '★★★★★': 5\n",
    "}\n",
    "df['Rating'] = df['rating'].map(rating_map)"
   ]
  },
  {
   "cell_type": "code",
   "execution_count": null,
   "metadata": {},
   "outputs": [
    {
     "data": {
      "application/vnd.microsoft.datawrangler.viewer.v0+json": {
       "columns": [
        {
         "name": "index",
         "rawType": "int64",
         "type": "integer"
        },
        {
         "name": "name",
         "rawType": "object",
         "type": "string"
        },
        {
         "name": "Rating",
         "rawType": "float64",
         "type": "float"
        }
       ],
       "conversionMethod": "pd.DataFrame",
       "ref": "3fc09941-3333-4767-8fc1-044e9a8e2286",
       "rows": [
        [
         "0",
         "a-complete-unknown",
         "3.5"
        ],
        [
         "1",
         "bonjour-tristesse-2024",
         "4.0"
        ],
        [
         "2",
         "alien-romulus",
         "2.0"
        ],
        [
         "3",
         "blur-to-the-end",
         "3.0"
        ],
        [
         "4",
         "one-day-2024",
         "4.0"
        ],
        [
         "5",
         "dune-part-two",
         "3.5"
        ],
        [
         "6",
         "hit-man-2023",
         "1.5"
        ],
        [
         "7",
         "poor-things-2023",
         "3.0"
        ],
        [
         "8",
         "the-boy-and-the-heron",
         "4.5"
        ],
        [
         "9",
         "barbie",
         null
        ],
        [
         "10",
         "no-hard-feelings-2023",
         "1.5"
        ],
        [
         "11",
         "indiana-jones-and-the-dial-of-destiny",
         "1.0"
        ],
        [
         "12",
         "burn-all-my-letters",
         "0.5"
        ],
        [
         "13",
         "elvis-2022",
         "0.5"
        ],
        [
         "14",
         "sick-of-myself",
         "2.5"
        ],
        [
         "15",
         "triangle-of-sadness",
         "4.0"
        ],
        [
         "16",
         "corsage",
         "2.0"
        ],
        [
         "17",
         "clark-2022",
         "4.0"
        ],
        [
         "18",
         "fantastic-beasts-the-secrets-of-dumbledore",
         null
        ],
        [
         "19",
         "everything-everywhere-all-at-once",
         "3.5"
        ],
        [
         "20",
         "uncharted-2022",
         "1.0"
        ],
        [
         "21",
         "tick-tick-boom-2021",
         "2.5"
        ],
        [
         "22",
         "dune-2021",
         "3.0"
        ],
        [
         "23",
         "the-french-dispatch",
         null
        ],
        [
         "24",
         "the-worst-person-in-the-world",
         "1.0"
        ],
        [
         "25",
         "we-are-who-we-are",
         "5.0"
        ],
        [
         "26",
         "another-round",
         "4.5"
        ],
        [
         "27",
         "dating-amber",
         "4.0"
        ],
        [
         "28",
         "normal-people-2020",
         "5.0"
        ],
        [
         "29",
         "little-women-2019",
         "3.0"
        ],
        [
         "30",
         "jojo-rabbit",
         null
        ],
        [
         "31",
         "once-upon-a-time-in-hollywood",
         null
        ],
        [
         "32",
         "portrait-of-a-lady-on-fire",
         "4.0"
        ],
        [
         "33",
         "eighth-grade",
         null
        ],
        [
         "34",
         "ted-show-me-love",
         null
        ],
        [
         "35",
         "i-tonya",
         null
        ],
        [
         "36",
         "borg-vs-mcenroe",
         null
        ],
        [
         "37",
         "lady-bird",
         "5.0"
        ],
        [
         "38",
         "the-shape-of-water",
         null
        ],
        [
         "39",
         "bpm-beats-per-minute",
         "3.0"
        ],
        [
         "40",
         "ghost-in-the-shell-2017",
         null
        ],
        [
         "41",
         "baby-driver",
         "3.0"
        ],
        [
         "42",
         "call-me-by-your-name",
         "5.0"
        ],
        [
         "43",
         "rogue-one-a-star-wars-story",
         null
        ],
        [
         "44",
         "doctor-strange-2016",
         null
        ],
        [
         "45",
         "split-2016",
         "2.5"
        ],
        [
         "46",
         "a-serious-game",
         "5.0"
        ],
        [
         "47",
         "la-la-land",
         "4.5"
        ],
        [
         "48",
         "bad-moms",
         "2.5"
        ],
        [
         "49",
         "the-neon-demon",
         null
        ]
       ],
       "shape": {
        "columns": 2,
        "rows": 176
       }
      },
      "text/html": [
       "<div>\n",
       "<style scoped>\n",
       "    .dataframe tbody tr th:only-of-type {\n",
       "        vertical-align: middle;\n",
       "    }\n",
       "\n",
       "    .dataframe tbody tr th {\n",
       "        vertical-align: top;\n",
       "    }\n",
       "\n",
       "    .dataframe thead th {\n",
       "        text-align: right;\n",
       "    }\n",
       "</style>\n",
       "<table border=\"1\" class=\"dataframe\">\n",
       "  <thead>\n",
       "    <tr style=\"text-align: right;\">\n",
       "      <th></th>\n",
       "      <th>name</th>\n",
       "      <th>Rating</th>\n",
       "    </tr>\n",
       "  </thead>\n",
       "  <tbody>\n",
       "    <tr>\n",
       "      <th>0</th>\n",
       "      <td>a-complete-unknown</td>\n",
       "      <td>3.5</td>\n",
       "    </tr>\n",
       "    <tr>\n",
       "      <th>1</th>\n",
       "      <td>bonjour-tristesse-2024</td>\n",
       "      <td>4.0</td>\n",
       "    </tr>\n",
       "    <tr>\n",
       "      <th>2</th>\n",
       "      <td>alien-romulus</td>\n",
       "      <td>2.0</td>\n",
       "    </tr>\n",
       "    <tr>\n",
       "      <th>3</th>\n",
       "      <td>blur-to-the-end</td>\n",
       "      <td>3.0</td>\n",
       "    </tr>\n",
       "    <tr>\n",
       "      <th>4</th>\n",
       "      <td>one-day-2024</td>\n",
       "      <td>4.0</td>\n",
       "    </tr>\n",
       "    <tr>\n",
       "      <th>...</th>\n",
       "      <td>...</td>\n",
       "      <td>...</td>\n",
       "    </tr>\n",
       "    <tr>\n",
       "      <th>171</th>\n",
       "      <td>purple-noon</td>\n",
       "      <td>3.0</td>\n",
       "    </tr>\n",
       "    <tr>\n",
       "      <th>172</th>\n",
       "      <td>1984</td>\n",
       "      <td>3.0</td>\n",
       "    </tr>\n",
       "    <tr>\n",
       "      <th>173</th>\n",
       "      <td>rebel-without-a-cause</td>\n",
       "      <td>NaN</td>\n",
       "    </tr>\n",
       "    <tr>\n",
       "      <th>174</th>\n",
       "      <td>summer-interlude</td>\n",
       "      <td>4.0</td>\n",
       "    </tr>\n",
       "    <tr>\n",
       "      <th>175</th>\n",
       "      <td>citizen-kane</td>\n",
       "      <td>NaN</td>\n",
       "    </tr>\n",
       "  </tbody>\n",
       "</table>\n",
       "<p>176 rows × 2 columns</p>\n",
       "</div>"
      ],
      "text/plain": [
       "                       name  Rating\n",
       "0        a-complete-unknown     3.5\n",
       "1    bonjour-tristesse-2024     4.0\n",
       "2             alien-romulus     2.0\n",
       "3           blur-to-the-end     3.0\n",
       "4              one-day-2024     4.0\n",
       "..                      ...     ...\n",
       "171             purple-noon     3.0\n",
       "172                    1984     3.0\n",
       "173   rebel-without-a-cause     NaN\n",
       "174        summer-interlude     4.0\n",
       "175            citizen-kane     NaN\n",
       "\n",
       "[176 rows x 2 columns]"
      ]
     },
     "execution_count": 11,
     "metadata": {},
     "output_type": "execute_result"
    }
   ],
   "source": [
    "df = df.drop(columns=[\"genres\",\"rating\",\"avg_user_rating\"])\n"
   ]
  },
  {
   "cell_type": "code",
   "execution_count": 12,
   "metadata": {},
   "outputs": [],
   "source": [
    "df.to_csv(\"liv_ratings\")"
   ]
  }
 ],
 "metadata": {
  "kernelspec": {
   "display_name": ".venv",
   "language": "python",
   "name": "python3"
  },
  "language_info": {
   "codemirror_mode": {
    "name": "ipython",
    "version": 3
   },
   "file_extension": ".py",
   "mimetype": "text/x-python",
   "name": "python",
   "nbconvert_exporter": "python",
   "pygments_lexer": "ipython3",
   "version": "3.12.6"
  }
 },
 "nbformat": 4,
 "nbformat_minor": 2
}
